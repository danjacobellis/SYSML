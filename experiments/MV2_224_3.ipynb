{
 "cells": [
  {
   "cell_type": "code",
   "execution_count": 2,
   "id": "7efa49e4-5ee0-42de-9c98-306db06663f7",
   "metadata": {},
   "outputs": [],
   "source": [
    "import numpy as np\n",
    "import tensorflow as tf\n",
    "import tensorflow_datasets as tfds\n",
    "from tensorflow.keras.models import Sequential\n",
    "from tensorflow.keras import layers\n",
    "from tensorflow.keras.applications import MobileNetV2\n",
    "import matplotlib.pyplot as plt"
   ]
  },
  {
   "cell_type": "code",
   "execution_count": 3,
   "id": "efc5641b-f0a1-403b-8379-3258c54785d8",
   "metadata": {},
   "outputs": [],
   "source": [
    "IMG_SIZE = 224;\n",
    "N_CHANNELS = 3;\n",
    "ALPHA = 1;\n",
    "batch_size = 32;"
   ]
  },
  {
   "cell_type": "code",
   "execution_count": 4,
   "id": "85a2c059-f16e-4931-9061-6d4acb729369",
   "metadata": {},
   "outputs": [],
   "source": [
    "def resize(image, label):\n",
    "    resized = tf.image.resize(image, size)\n",
    "    return resized, label\n",
    "def onehot(image, label):\n",
    "    label = tf.one_hot(label, NUM_CLASSES)\n",
    "    return image, label"
   ]
  },
  {
   "cell_type": "code",
   "execution_count": 5,
   "id": "80fe8003-5e41-4371-8600-a10610ad470b",
   "metadata": {},
   "outputs": [],
   "source": [
    "NUM_CLASSES = 10;\n",
    "size = (IMG_SIZE,IMG_SIZE);\n",
    "\n",
    "\n",
    "(ds_train, ds_test), ds_info = tfds.load(\n",
    "    \"imagenette\", split=['train','validation'], with_info=True, as_supervised=True\n",
    ")\n",
    "\n",
    "ds_train = ds_train.map(resize, num_parallel_calls=8)\n",
    "ds_train = ds_train.map(onehot, num_parallel_calls=8)\n",
    "ds_train = ds_train.batch(batch_size=batch_size, drop_remainder=True)\n",
    "\n",
    "ds_test = ds_test.map(resize, num_parallel_calls=8)\n",
    "ds_test = ds_test.map(onehot, num_parallel_calls=8)\n",
    "ds_test = ds_test.batch(batch_size=batch_size, drop_remainder=True)\n",
    "\n",
    "ds_train = ds_train.prefetch(tf.data.AUTOTUNE)"
   ]
  },
  {
   "cell_type": "code",
   "execution_count": 6,
   "id": "023b8126-f89a-4d7f-a6e4-c0d8a049b8ef",
   "metadata": {},
   "outputs": [],
   "source": [
    "MBNet = MobileNetV2(\n",
    "    include_top=True,\n",
    "    weights=None,\n",
    "    alpha=ALPHA,\n",
    "    classes=10,\n",
    "    input_shape=(IMG_SIZE,IMG_SIZE,N_CHANNELS),\n",
    ")\n",
    "model = MBNet\n",
    "model.compile(\n",
    "    optimizer=\"adam\", loss=\"categorical_crossentropy\", metrics=[\"accuracy\"]\n",
    ")"
   ]
  },
  {
   "cell_type": "code",
   "execution_count": 7,
   "id": "bff32845-dbe1-4747-ba0d-71df3e51c16a",
   "metadata": {},
   "outputs": [
    {
     "name": "stdout",
     "output_type": "stream",
     "text": [
      "(None, 224, 224, 3)\n",
      "(None, 10)\n",
      "156\n"
     ]
    }
   ],
   "source": [
    "print(model.layers[0].get_input_shape_at(0))\n",
    "print(model.layers[-1].get_output_shape_at(0))\n",
    "print(np.size(model.layers))"
   ]
  },
  {
   "cell_type": "code",
   "execution_count": 8,
   "id": "24a45794-3f50-454c-9bb9-2978841e7d00",
   "metadata": {},
   "outputs": [
    {
     "name": "stdout",
     "output_type": "stream",
     "text": [
      "Epoch 1/20\n",
      "295/295 - 57s - loss: 1.7862 - accuracy: 0.3873 - val_loss: 2.4231 - val_accuracy: 0.1002 - 57s/epoch - 194ms/step\n",
      "Epoch 2/20\n",
      "295/295 - 32s - loss: 1.3423 - accuracy: 0.5579 - val_loss: 2.6412 - val_accuracy: 0.1012 - 32s/epoch - 107ms/step\n",
      "Epoch 3/20\n",
      "295/295 - 32s - loss: 1.0982 - accuracy: 0.6388 - val_loss: 2.8411 - val_accuracy: 0.1012 - 32s/epoch - 107ms/step\n",
      "Epoch 4/20\n",
      "295/295 - 32s - loss: 0.9294 - accuracy: 0.6954 - val_loss: 3.0373 - val_accuracy: 0.1012 - 32s/epoch - 108ms/step\n",
      "Epoch 5/20\n",
      "295/295 - 32s - loss: 0.8122 - accuracy: 0.7333 - val_loss: 3.2668 - val_accuracy: 0.1012 - 32s/epoch - 107ms/step\n",
      "Epoch 6/20\n",
      "295/295 - 32s - loss: 0.7223 - accuracy: 0.7637 - val_loss: 3.2805 - val_accuracy: 0.0989 - 32s/epoch - 107ms/step\n",
      "Epoch 7/20\n",
      "295/295 - 32s - loss: 0.6532 - accuracy: 0.7811 - val_loss: 3.2449 - val_accuracy: 0.0989 - 32s/epoch - 107ms/step\n",
      "Epoch 8/20\n",
      "295/295 - 32s - loss: 0.5637 - accuracy: 0.8087 - val_loss: 3.1172 - val_accuracy: 0.1012 - 32s/epoch - 107ms/step\n",
      "Epoch 9/20\n",
      "295/295 - 32s - loss: 0.5068 - accuracy: 0.8296 - val_loss: 3.2094 - val_accuracy: 0.0989 - 32s/epoch - 107ms/step\n",
      "Epoch 10/20\n",
      "295/295 - 32s - loss: 0.4767 - accuracy: 0.8354 - val_loss: 3.3525 - val_accuracy: 0.1012 - 32s/epoch - 107ms/step\n",
      "Epoch 11/20\n",
      "295/295 - 32s - loss: 0.4235 - accuracy: 0.8571 - val_loss: 3.3823 - val_accuracy: 0.1055 - 32s/epoch - 107ms/step\n",
      "Epoch 12/20\n",
      "295/295 - 32s - loss: 0.3560 - accuracy: 0.8754 - val_loss: 3.7235 - val_accuracy: 0.1119 - 32s/epoch - 107ms/step\n",
      "Epoch 13/20\n",
      "295/295 - 32s - loss: 0.3547 - accuracy: 0.8778 - val_loss: 3.6833 - val_accuracy: 0.1230 - 32s/epoch - 107ms/step\n",
      "Epoch 14/20\n",
      "295/295 - 32s - loss: 0.2832 - accuracy: 0.9032 - val_loss: 2.5844 - val_accuracy: 0.2259 - 32s/epoch - 107ms/step\n",
      "Epoch 15/20\n",
      "295/295 - 32s - loss: 0.2708 - accuracy: 0.9092 - val_loss: 2.2082 - val_accuracy: 0.4685 - 32s/epoch - 107ms/step\n",
      "Epoch 16/20\n",
      "295/295 - 32s - loss: 0.2458 - accuracy: 0.9133 - val_loss: 2.0971 - val_accuracy: 0.5656 - 32s/epoch - 107ms/step\n",
      "Epoch 17/20\n",
      "295/295 - 32s - loss: 0.2040 - accuracy: 0.9279 - val_loss: 3.0867 - val_accuracy: 0.5789 - 32s/epoch - 107ms/step\n",
      "Epoch 18/20\n",
      "295/295 - 32s - loss: 0.1944 - accuracy: 0.9328 - val_loss: 6.0620 - val_accuracy: 0.4078 - 32s/epoch - 107ms/step\n",
      "Epoch 19/20\n",
      "295/295 - 32s - loss: 0.1821 - accuracy: 0.9343 - val_loss: 9.4781 - val_accuracy: 0.3548 - 32s/epoch - 107ms/step\n",
      "Epoch 20/20\n",
      "295/295 - 32s - loss: 0.1874 - accuracy: 0.9359 - val_loss: 8.9313 - val_accuracy: 0.3978 - 32s/epoch - 107ms/step\n"
     ]
    }
   ],
   "source": [
    "epochs = 20\n",
    "hist = model.fit(ds_train, epochs=epochs, validation_data=ds_test, verbose=2)"
   ]
  },
  {
   "cell_type": "code",
   "execution_count": 15,
   "id": "888642ba-c65f-4cc9-aef5-0b3e9522c81a",
   "metadata": {},
   "outputs": [
    {
     "data": {
      "text/plain": [
       "Text(0, 0.5, 'Accuracy')"
      ]
     },
     "execution_count": 15,
     "metadata": {},
     "output_type": "execute_result"
    },
    {
     "data": {
      "image/png": "[encoded data removed]",
      "text/plain": [
       "<Figure size 640x480 with 1 Axes>"
      ]
     },
     "metadata": {},
     "output_type": "display_data"
    }
   ],
   "source": [
    "plt.plot(hist.history['accuracy'])\n",
    "plt.plot(hist.history['val_accuracy'])\n",
    "plt.xlabel('Epochs')\n",
    "plt.ylabel('Accuracy')"
   ]
  },
  {
   "cell_type": "code",
   "execution_count": 22,
   "id": "6662e29c-f4cd-4517-803e-915da22e6000",
   "metadata": {},
   "outputs": [
    {
     "name": "stdout",
     "output_type": "stream",
     "text": [
      "Model: \"mobilenetv2_1.00_224\"\n",
      "__________________________________________________________________________________________________\n",
      " Layer (type)                   Output Shape         Param #     Connected to                     \n",
      "==================================================================================================\n",
      " input_1 (InputLayer)           [(None, 224, 224, 3  0           []                               \n",
      "                                )]                                                                \n",
      "                                                                                                  \n",
      "==================================================================================================\n",
      "Total params: 2,270,794\n",
      "Trainable params: 2,236,682\n",
      "Non-trainable params: 34,112\n",
      "__________________________________________________________________________________________________\n"
     ]
    }
   ],
   "source": [
    "model.summary(layer_range=['input_1','input_1'])"
   ]
  }
 ],
 "metadata": {
  "kernelspec": {
   "display_name": "Python 3 (ipykernel)",
   "language": "python",
   "name": "python3"
  },
  "language_info": {
   "codemirror_mode": {
    "name": "ipython",
    "version": 3
   },
   "file_extension": ".py",
   "mimetype": "text/x-python",
   "name": "python",
   "nbconvert_exporter": "python",
   "pygments_lexer": "ipython3",
   "version": "3.10.6"
  }
 },
 "nbformat": 4,
 "nbformat_minor": 5
}
