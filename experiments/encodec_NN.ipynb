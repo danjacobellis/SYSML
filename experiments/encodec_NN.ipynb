{
 "cells": [
  {
   "cell_type": "code",
   "execution_count": 4,
   "id": "318f0f9f-3f2a-49ef-be37-2cf2157169af",
   "metadata": {},
   "outputs": [],
   "source": [
    "import matplotlib.pyplot as plt\n",
    "import time"
   ]
  },
  {
   "cell_type": "code",
   "execution_count": 5,
   "id": "e552620d-51b5-4e85-98df-ec90cf696c1a",
   "metadata": {},
   "outputs": [],
   "source": [
    "from common_functions import *"
   ]
  },
  {
   "cell_type": "code",
   "execution_count": 6,
   "id": "7a20c521-8405-4820-9011-3dd1185a1a04",
   "metadata": {},
   "outputs": [],
   "source": [
    "from encodec import EncodecModel\n",
    "from encodec.utils import convert_audio\n",
    "import torchaudio\n",
    "import torch\n",
    "import resampy"
   ]
  },
  {
   "cell_type": "code",
   "execution_count": 11,
   "id": "7a0a0d77-69c8-4acd-944d-f49fb3518c48",
   "metadata": {},
   "outputs": [
    {
     "name": "stdout",
     "output_type": "stream",
     "text": [
      "Found 8000 files belonging to 8 classes.\n",
      "Using 6400 files for training.\n",
      "Using 1600 files for validation.\n"
     ]
    }
   ],
   "source": [
    "DATASET_PATH = 'data/mini_speech_commands'\n",
    "\n",
    "data_dir = pathlib.Path(DATASET_PATH)\n",
    "if not data_dir.exists():\n",
    "  tf.keras.utils.get_file(\n",
    "      'mini_speech_commands.zip',\n",
    "      origin=\"http://storage.googleapis.com/download.tensorflow.org/data/mini_speech_commands.zip\",\n",
    "      extract=True,\n",
    "      cache_dir='.', cache_subdir='data')\n",
    "\n",
    "train_ds, val_ds = tf.keras.utils.audio_dataset_from_directory(\n",
    "    directory=data_dir,\n",
    "    batch_size=None,\n",
    "    validation_split=0.2,\n",
    "    seed=0,\n",
    "    output_sequence_length=16256,\n",
    "    subset='both')\n",
    "\n",
    "model = EncodecModel.encodec_model_24khz()\n",
    "model.set_target_bandwidth(24) \n",
    "\n",
    "C = []\n",
    "Cv = []\n",
    "yC = []\n",
    "yCv = []\n",
    "for xi,yi in train_ds:\n",
    "    c = encodec(xi,model)\n",
    "    C.append(np.expand_dims(c,0))\n",
    "    yC.append(yi)\n",
    "for xi,yi in val_ds:\n",
    "    c = encodec(xi,model)\n",
    "    Cv.append(np.expand_dims(c,0))\n",
    "    yCv.append(yi)\n",
    "C = np.vstack(C)\n",
    "yC = np.vstack(yC)\n",
    "Cv = np.vstack(Cv)\n",
    "yCv = np.vstack(yCv)"
   ]
  },
  {
   "cell_type": "code",
   "execution_count": 12,
   "id": "b2ff5eca-d3b0-49fa-80fa-31b845ddd250",
   "metadata": {},
   "outputs": [],
   "source": [
    "np.save('encodec_transformed_data/C',C)\n",
    "np.save('encodec_transformed_data/yC',yC)\n",
    "np.save('encodec_transformed_data/Cv',Cv)\n",
    "np.save('encodec_transformed_data/yCv',yCv)"
   ]
  },
  {
   "cell_type": "code",
   "execution_count": 9,
   "id": "6292fc4b-a800-4106-b0eb-41d69c1f0c70",
   "metadata": {},
   "outputs": [],
   "source": [
    "def encodec(x, model):\n",
    "    wav = torch.tensor(np.reshape(x,-1)).unsqueeze(0).unsqueeze(0)\n",
    "    wav = convert_audio(wav, 16256, model.sample_rate, model.channels)\n",
    "    with torch.no_grad():\n",
    "        encoded_frames = model.encode(wav)\n",
    "    return encoded_frames\n",
    "\n",
    "def load_mini_speech_commands_encodec():\n",
    "    DATASET_PATH = 'data/mini_speech_commands'\n",
    "\n",
    "    data_dir = pathlib.Path(DATASET_PATH)\n",
    "    if not data_dir.exists():\n",
    "      tf.keras.utils.get_file(\n",
    "          'mini_speech_commands.zip',\n",
    "          origin=\"http://storage.googleapis.com/download.tensorflow.org/data/mini_speech_commands.zip\",\n",
    "          extract=True,\n",
    "          cache_dir='.', cache_subdir='data')\n",
    "\n",
    "    train_ds, val_ds = tf.keras.utils.audio_dataset_from_directory(\n",
    "        directory=data_dir,\n",
    "        batch_size=None,\n",
    "        validation_split=0.2,\n",
    "        seed=0,\n",
    "        output_sequence_length=16256,\n",
    "        subset='both')\n",
    "    \n",
    "    model = EncodecModel.encodec_model_24khz()\n",
    "    model.set_target_bandwidth(24) \n",
    "    \n",
    "    C = []\n",
    "    Cv = []\n",
    "    yC = []\n",
    "    yCv = []\n",
    "    for xi,yi in train_ds:\n",
    "        c = encodec(xi,model)\n",
    "        C.append(np.expand_dims(c,0))\n",
    "        yC.append(yi)\n",
    "    for xi,yi in val_ds:\n",
    "        c = encodec(xi,model)\n",
    "        Cv.append(np.expand_dims(c,0))\n",
    "        yCv.append(yi)\n",
    "    C = np.vstack(C)\n",
    "    yC = np.vstack(yC)\n",
    "    Cv = np.vstack(Cv)\n",
    "    yCv = np.vstack(yCv)\n",
    "    \n",
    "    return C, yC, Cv, yCv"
   ]
  },
  {
   "cell_type": "code",
   "execution_count": 10,
   "id": "1a4c1f39-7b66-4894-8021-7b1223b598d6",
   "metadata": {},
   "outputs": [
    {
     "name": "stdout",
     "output_type": "stream",
     "text": [
      "Found 8000 files belonging to 8 classes.\n",
      "Using 6400 files for training.\n",
      "Using 1600 files for validation.\n"
     ]
    },
    {
     "name": "stderr",
     "output_type": "stream",
     "text": [
      "2023-02-26 09:17:57.655395: I tensorflow/compiler/xla/stream_executor/cuda/cuda_gpu_executor.cc:981] successful NUMA node read from SysFS had negative value (-1), but there must be at least one NUMA node, so returning NUMA node zero\n",
      "2023-02-26 09:17:57.660311: I tensorflow/compiler/xla/stream_executor/cuda/cuda_gpu_executor.cc:981] successful NUMA node read from SysFS had negative value (-1), but there must be at least one NUMA node, so returning NUMA node zero\n",
      "2023-02-26 09:17:57.660544: I tensorflow/compiler/xla/stream_executor/cuda/cuda_gpu_executor.cc:981] successful NUMA node read from SysFS had negative value (-1), but there must be at least one NUMA node, so returning NUMA node zero\n",
      "2023-02-26 09:17:57.661074: I tensorflow/core/platform/cpu_feature_guard.cc:193] This TensorFlow binary is optimized with oneAPI Deep Neural Network Library (oneDNN) to use the following CPU instructions in performance-critical operations:  AVX2 FMA\n",
      "To enable them in other operations, rebuild TensorFlow with the appropriate compiler flags.\n",
      "2023-02-26 09:17:57.661533: I tensorflow/compiler/xla/stream_executor/cuda/cuda_gpu_executor.cc:981] successful NUMA node read from SysFS had negative value (-1), but there must be at least one NUMA node, so returning NUMA node zero\n",
      "2023-02-26 09:17:57.661728: I tensorflow/compiler/xla/stream_executor/cuda/cuda_gpu_executor.cc:981] successful NUMA node read from SysFS had negative value (-1), but there must be at least one NUMA node, so returning NUMA node zero\n",
      "2023-02-26 09:17:57.661906: I tensorflow/compiler/xla/stream_executor/cuda/cuda_gpu_executor.cc:981] successful NUMA node read from SysFS had negative value (-1), but there must be at least one NUMA node, so returning NUMA node zero\n",
      "2023-02-26 09:17:58.177204: I tensorflow/compiler/xla/stream_executor/cuda/cuda_gpu_executor.cc:981] successful NUMA node read from SysFS had negative value (-1), but there must be at least one NUMA node, so returning NUMA node zero\n",
      "2023-02-26 09:17:58.177439: I tensorflow/compiler/xla/stream_executor/cuda/cuda_gpu_executor.cc:981] successful NUMA node read from SysFS had negative value (-1), but there must be at least one NUMA node, so returning NUMA node zero\n",
      "2023-02-26 09:17:58.177618: I tensorflow/compiler/xla/stream_executor/cuda/cuda_gpu_executor.cc:981] successful NUMA node read from SysFS had negative value (-1), but there must be at least one NUMA node, so returning NUMA node zero\n",
      "2023-02-26 09:17:58.177763: I tensorflow/core/common_runtime/gpu/gpu_device.cc:1613] Created device /job:localhost/replica:0/task:0/device:GPU:0 with 10645 MB memory:  -> device: 0, name: NVIDIA GeForce RTX 2060, pci bus id: 0000:09:00.0, compute capability: 7.5\n",
      "/home/server/.local/lib/python3.10/site-packages/numpy/lib/shape_base.py:591: FutureWarning: The input object of type 'Tensor' is an array-like implementing one of the corresponding protocols (`__array__`, `__array_interface__` or `__array_struct__`); but not a sequence (or 0-D). In the future, this object will be coerced as if it was first converted using `np.array(obj)`. To retain the old behaviour, you have to either modify the type 'Tensor', or assign to an empty array created with `np.empty(correct_shape, dtype=object)`.\n",
      "  a = asanyarray(a)\n"
     ]
    }
   ],
   "source": [
    "C, yC, Cv, yCv = load_mini_speech_commands_encodec()\n",
    "np.save('encodec_transformed_data/C',C)\n",
    "np.save('encodec_transformed_data/yC',yC)\n",
    "np.save('encodec_transformed_data/Cv',Cv)\n",
    "np.save('encodec_transformed_data/yCv',yCv)\n",
    "\n",
    "# C = np.load('encodec_transformed_data/C.npy')\n",
    "# Cv = np.load('encodec_transformed_data/Cv.npy')\n",
    "# y = np.load('encodec_transformed_data/yC.npy')\n",
    "# yv = np.load('encodec_transformed_data/yCv.npy')"
   ]
  },
  {
   "cell_type": "code",
   "execution_count": 6,
   "id": "f16d19c8-bdc8-41bf-a00f-daaff7c2b414",
   "metadata": {},
   "outputs": [
    {
     "name": "stdout",
     "output_type": "stream",
     "text": [
      "Model: \"sequential\"\n",
      "_________________________________________________________________\n",
      " Layer (type)                Output Shape              Param #   \n",
      "=================================================================\n",
      " batch_normalization (BatchN  (None, 128, 128, 1)      4         \n",
      " ormalization)                                                   \n",
      "                                                                 \n",
      " conv2d (Conv2D)             (None, 126, 126, 32)      320       \n",
      "                                                                 \n",
      " max_pooling2d (MaxPooling2D  (None, 63, 63, 32)       0         \n",
      " )                                                               \n",
      "                                                                 \n",
      " conv2d_1 (Conv2D)           (None, 61, 61, 64)        18496     \n",
      "                                                                 \n",
      " max_pooling2d_1 (MaxPooling  (None, 30, 30, 64)       0         \n",
      " 2D)                                                             \n",
      "                                                                 \n",
      " flatten (Flatten)           (None, 57600)             0         \n",
      "                                                                 \n",
      " dense (Dense)               (None, 128)               7372928   \n",
      "                                                                 \n",
      " dense_1 (Dense)             (None, 8)                 1032      \n",
      "                                                                 \n",
      "=================================================================\n",
      "Total params: 7,392,780\n",
      "Trainable params: 7,392,778\n",
      "Non-trainable params: 2\n",
      "_________________________________________________________________\n"
     ]
    }
   ],
   "source": [
    "model = models.Sequential([\n",
    "    layers.Input(shape=(128,128,1)),\n",
    "    layers.BatchNormalization(),\n",
    "    layers.Conv2D(32, 3, activation='relu'),\n",
    "    layers.MaxPooling2D(pool_size=(2,2)),\n",
    "    layers.Conv2D(64, 3, activation='relu'),\n",
    "    layers.MaxPooling2D(pool_size=(2,2)),\n",
    "    layers.Flatten(),\n",
    "    layers.Dense(128, activation='relu'),\n",
    "    layers.Dense(8),\n",
    "])\n",
    "\n",
    "model.summary()"
   ]
  },
  {
   "cell_type": "code",
   "execution_count": 7,
   "id": "2c475c47-a271-47ae-b61c-28306330f422",
   "metadata": {},
   "outputs": [],
   "source": [
    "model.compile(\n",
    "    optimizer=tf.keras.optimizers.Adam(),\n",
    "    loss=tf.keras.losses.SparseCategoricalCrossentropy(from_logits=True),\n",
    "    metrics=['accuracy'],\n",
    ")"
   ]
  },
  {
   "cell_type": "code",
   "execution_count": 8,
   "id": "75f02840-d4fd-464a-969d-7eb8986fe1b6",
   "metadata": {},
   "outputs": [],
   "source": [
    "train_acc = [];\n",
    "test_acc = [];\n",
    "elapsed_time = [];"
   ]
  },
  {
   "cell_type": "code",
   "execution_count": 9,
   "id": "849dff1b-2a28-4f7d-9e12-8c695f5e44e8",
   "metadata": {},
   "outputs": [
    {
     "name": "stderr",
     "output_type": "stream",
     "text": [
      "2023-02-26 09:02:50.806714: W tensorflow/tsl/framework/cpu_allocator_impl.cc:82] Allocation of 419430400 exceeds 10% of free system memory.\n",
      "2023-02-26 09:02:51.062782: W tensorflow/tsl/framework/cpu_allocator_impl.cc:82] Allocation of 419430400 exceeds 10% of free system memory.\n",
      "2023-02-26 09:02:53.089315: I tensorflow/compiler/xla/stream_executor/cuda/cuda_dnn.cc:428] Loaded cuDNN version 8500\n",
      "2023-02-26 09:02:53.995567: I tensorflow/tsl/platform/default/subprocess.cc:304] Start cannot spawn child process: No such file or directory\n",
      "2023-02-26 09:02:54.206259: I tensorflow/compiler/xla/service/service.cc:173] XLA service 0x7f2f033d1e20 initialized for platform CUDA (this does not guarantee that XLA will be used). Devices:\n",
      "2023-02-26 09:02:54.206288: I tensorflow/compiler/xla/service/service.cc:181]   StreamExecutor device (0): NVIDIA GeForce RTX 2060, Compute Capability 7.5\n",
      "2023-02-26 09:02:54.230185: I tensorflow/compiler/mlir/tensorflow/utils/dump_mlir_util.cc:268] disabling MLIR crash reproducer, set env var `MLIR_CRASH_REPRODUCER_DIRECTORY` to enable.\n",
      "2023-02-26 09:02:54.447423: I tensorflow/tsl/platform/default/subprocess.cc:304] Start cannot spawn child process: No such file or directory\n",
      "2023-02-26 09:02:54.520106: I tensorflow/compiler/jit/xla_compilation_cache.cc:477] Compiled cluster using XLA!  This line is logged at most once for the lifetime of the process.\n"
     ]
    },
    {
     "name": "stdout",
     "output_type": "stream",
     "text": [
      "100/100 [==============================] - 7s 20ms/step - loss: 1.6853 - accuracy: 0.4280\n"
     ]
    },
    {
     "name": "stderr",
     "output_type": "stream",
     "text": [
      "2023-02-26 09:02:58.240765: W tensorflow/tsl/framework/cpu_allocator_impl.cc:82] Allocation of 104857600 exceeds 10% of free system memory.\n",
      "2023-02-26 09:02:58.317268: W tensorflow/tsl/framework/cpu_allocator_impl.cc:82] Allocation of 104857600 exceeds 10% of free system memory.\n"
     ]
    },
    {
     "name": "stdout",
     "output_type": "stream",
     "text": [
      "50/50 [==============================] - 0s 5ms/step - loss: 1.3351 - accuracy: 0.5788\n"
     ]
    },
    {
     "name": "stderr",
     "output_type": "stream",
     "text": [
      "2023-02-26 09:02:58.923204: W tensorflow/tsl/framework/cpu_allocator_impl.cc:82] Allocation of 419430400 exceeds 10% of free system memory.\n"
     ]
    },
    {
     "name": "stdout",
     "output_type": "stream",
     "text": [
      "100/100 [==============================] - 2s 20ms/step - loss: 0.9497 - accuracy: 0.7039\n",
      "50/50 [==============================] - 0s 4ms/step - loss: 0.9126 - accuracy: 0.7006\n",
      "100/100 [==============================] - 2s 20ms/step - loss: 0.5402 - accuracy: 0.8250\n",
      "50/50 [==============================] - 0s 4ms/step - loss: 0.8144 - accuracy: 0.7525\n",
      "100/100 [==============================] - 2s 20ms/step - loss: 0.3393 - accuracy: 0.8930\n",
      "50/50 [==============================] - 0s 5ms/step - loss: 0.8037 - accuracy: 0.7719\n",
      "100/100 [==============================] - 2s 20ms/step - loss: 0.2229 - accuracy: 0.9297\n",
      "50/50 [==============================] - 0s 5ms/step - loss: 1.0542 - accuracy: 0.7775\n",
      "100/100 [==============================] - 2s 19ms/step - loss: 0.1531 - accuracy: 0.9506\n",
      "50/50 [==============================] - 0s 4ms/step - loss: 1.0276 - accuracy: 0.7700\n",
      "100/100 [==============================] - 2s 19ms/step - loss: 0.1643 - accuracy: 0.9514\n",
      "50/50 [==============================] - 0s 5ms/step - loss: 1.2144 - accuracy: 0.7756\n",
      "100/100 [==============================] - 2s 19ms/step - loss: 0.1409 - accuracy: 0.9598\n",
      "50/50 [==============================] - 0s 4ms/step - loss: 1.2526 - accuracy: 0.7806\n",
      "100/100 [==============================] - 2s 20ms/step - loss: 0.1454 - accuracy: 0.9586\n",
      "50/50 [==============================] - 0s 4ms/step - loss: 1.3592 - accuracy: 0.7794\n",
      "100/100 [==============================] - 2s 19ms/step - loss: 0.1041 - accuracy: 0.9680\n",
      "50/50 [==============================] - 0s 4ms/step - loss: 1.4570 - accuracy: 0.7756\n",
      "100/100 [==============================] - 2s 19ms/step - loss: 0.0751 - accuracy: 0.9806\n",
      "50/50 [==============================] - 0s 5ms/step - loss: 1.4051 - accuracy: 0.8050\n",
      "100/100 [==============================] - 2s 19ms/step - loss: 0.0466 - accuracy: 0.9870\n",
      "50/50 [==============================] - 0s 4ms/step - loss: 1.6138 - accuracy: 0.8037\n",
      "100/100 [==============================] - 2s 20ms/step - loss: 0.0522 - accuracy: 0.9867\n",
      "50/50 [==============================] - 0s 5ms/step - loss: 1.6102 - accuracy: 0.7900\n",
      "100/100 [==============================] - 2s 20ms/step - loss: 0.0627 - accuracy: 0.9834\n",
      "50/50 [==============================] - 0s 4ms/step - loss: 1.6214 - accuracy: 0.7825\n",
      "100/100 [==============================] - 2s 20ms/step - loss: 0.1127 - accuracy: 0.9734\n",
      "50/50 [==============================] - 0s 4ms/step - loss: 1.6143 - accuracy: 0.7531\n"
     ]
    },
    {
     "data": {
      "text/plain": [
       "[<matplotlib.lines.Line2D at 0x7f32e06a6080>]"
      ]
     },
     "execution_count": 9,
     "metadata": {},
     "output_type": "execute_result"
    },
    {
     "data": {
      "image/png": "[encoded data removed]",
      "text/plain": [
       "<Figure size 640x480 with 1 Axes>"
      ]
     },
     "metadata": {},
     "output_type": "display_data"
    }
   ],
   "source": [
    "for i_iter in range(15):\n",
    "    t = time.process_time()\n",
    "    train_history = model.fit(x=X, y=y, epochs=1, batch_size=64);\n",
    "    elapsed_time.append(time.process_time()-t)\n",
    "    _, test_acc_i = model.evaluate(x=Xv, y=yv)\n",
    "    train_acc.append(train_history.history['accuracy'][0])\n",
    "    test_acc.append(test_acc_i)\n",
    "plt.plot(np.vstack(train_acc))\n",
    "plt.plot(np.vstack(test_acc))"
   ]
  },
  {
   "cell_type": "code",
   "execution_count": 10,
   "id": "839a172f-c778-409e-a86c-56a915691a19",
   "metadata": {},
   "outputs": [
    {
     "name": "stdout",
     "output_type": "stream",
     "text": [
      "2.887506840000242 seconds/iteration\n",
      "0.7900000214576721 test accuracy\n"
     ]
    }
   ],
   "source": [
    "print(np.median(elapsed_time), \"seconds/iteration\")\n",
    "print(np.median(test_acc[-5:]), \"test accuracy\")"
   ]
  }
 ],
 "metadata": {
  "kernelspec": {
   "display_name": "Python 3 (ipykernel)",
   "language": "python",
   "name": "python3"
  },
  "language_info": {
   "codemirror_mode": {
    "name": "ipython",
    "version": 3
   },
   "file_extension": ".py",
   "mimetype": "text/x-python",
   "name": "python",
   "nbconvert_exporter": "python",
   "pygments_lexer": "ipython3",
   "version": "3.10.6"
  }
 },
 "nbformat": 4,
 "nbformat_minor": 5
}
