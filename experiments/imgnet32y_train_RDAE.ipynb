{
 "cells": [
  {
   "cell_type": "code",
   "execution_count": 1,
   "id": "b012b6ad-7833-4eba-a34a-2cce64128ff0",
   "metadata": {
    "tags": []
   },
   "outputs": [
    {
     "name": "stderr",
     "output_type": "stream",
     "text": [
      "2023-04-18 19:08:50.921440: I tensorflow/core/platform/cpu_feature_guard.cc:182] This TensorFlow binary is optimized to use available CPU instructions in performance-critical operations.\n",
      "To enable the following instructions: AVX2 FMA, in other operations, rebuild TensorFlow with the appropriate compiler flags.\n",
      "2023-04-18 19:08:51.686248: W tensorflow/compiler/tf2tensorrt/utils/py_utils.cc:38] TF-TRT Warning: Could not find TensorRT\n",
      "2023-04-18 19:08:53.283682: I tensorflow/compiler/xla/stream_executor/cuda/cuda_gpu_executor.cc:996] successful NUMA node read from SysFS had negative value (-1), but there must be at least one NUMA node, so returning NUMA node zero. See more at https://github.com/torvalds/linux/blob/v6.0/Documentation/ABI/testing/sysfs-bus-pci#L344-L355\n",
      "2023-04-18 19:08:53.356921: I tensorflow/compiler/xla/stream_executor/cuda/cuda_gpu_executor.cc:996] successful NUMA node read from SysFS had negative value (-1), but there must be at least one NUMA node, so returning NUMA node zero. See more at https://github.com/torvalds/linux/blob/v6.0/Documentation/ABI/testing/sysfs-bus-pci#L344-L355\n",
      "2023-04-18 19:08:53.357150: I tensorflow/compiler/xla/stream_executor/cuda/cuda_gpu_executor.cc:996] successful NUMA node read from SysFS had negative value (-1), but there must be at least one NUMA node, so returning NUMA node zero. See more at https://github.com/torvalds/linux/blob/v6.0/Documentation/ABI/testing/sysfs-bus-pci#L344-L355\n",
      "2023-04-18 19:08:53.358321: I tensorflow/compiler/xla/stream_executor/cuda/cuda_gpu_executor.cc:996] successful NUMA node read from SysFS had negative value (-1), but there must be at least one NUMA node, so returning NUMA node zero. See more at https://github.com/torvalds/linux/blob/v6.0/Documentation/ABI/testing/sysfs-bus-pci#L344-L355\n",
      "2023-04-18 19:08:53.358513: I tensorflow/compiler/xla/stream_executor/cuda/cuda_gpu_executor.cc:996] successful NUMA node read from SysFS had negative value (-1), but there must be at least one NUMA node, so returning NUMA node zero. See more at https://github.com/torvalds/linux/blob/v6.0/Documentation/ABI/testing/sysfs-bus-pci#L344-L355\n",
      "2023-04-18 19:08:53.358687: I tensorflow/compiler/xla/stream_executor/cuda/cuda_gpu_executor.cc:996] successful NUMA node read from SysFS had negative value (-1), but there must be at least one NUMA node, so returning NUMA node zero. See more at https://github.com/torvalds/linux/blob/v6.0/Documentation/ABI/testing/sysfs-bus-pci#L344-L355\n",
      "2023-04-18 19:08:53.944547: I tensorflow/compiler/xla/stream_executor/cuda/cuda_gpu_executor.cc:996] successful NUMA node read from SysFS had negative value (-1), but there must be at least one NUMA node, so returning NUMA node zero. See more at https://github.com/torvalds/linux/blob/v6.0/Documentation/ABI/testing/sysfs-bus-pci#L344-L355\n",
      "2023-04-18 19:08:53.944770: I tensorflow/compiler/xla/stream_executor/cuda/cuda_gpu_executor.cc:996] successful NUMA node read from SysFS had negative value (-1), but there must be at least one NUMA node, so returning NUMA node zero. See more at https://github.com/torvalds/linux/blob/v6.0/Documentation/ABI/testing/sysfs-bus-pci#L344-L355\n",
      "2023-04-18 19:08:53.944952: I tensorflow/compiler/xla/stream_executor/cuda/cuda_gpu_executor.cc:996] successful NUMA node read from SysFS had negative value (-1), but there must be at least one NUMA node, so returning NUMA node zero. See more at https://github.com/torvalds/linux/blob/v6.0/Documentation/ABI/testing/sysfs-bus-pci#L344-L355\n",
      "2023-04-18 19:08:53.945090: I tensorflow/core/common_runtime/gpu/gpu_device.cc:1635] Created device /job:localhost/replica:0/task:0/device:GPU:0 with 10602 MB memory:  -> device: 0, name: NVIDIA GeForce RTX 2060, pci bus id: 0000:09:00.0, compute capability: 7.5\n"
     ]
    }
   ],
   "source": [
    "import tensorflow as tf\n",
    "import numpy as np\n",
    "import PIL\n",
    "from imgnet32y_RDAE import *\n",
    "import matplotlib.pyplot as plt\n",
    "from functools import wraps\n",
    "from time import time\n",
    "import tensorflow_decision_forests as tfdf"
   ]
  },
  {
   "cell_type": "code",
   "execution_count": 2,
   "id": "a6c61727-c3be-4062-8509-04bf03b3d1e3",
   "metadata": {
    "tags": []
   },
   "outputs": [],
   "source": [
    "def timing(f):\n",
    "    @wraps(f)\n",
    "    def wrap(*args, **kw):\n",
    "        ts = time()\n",
    "        result = f(*args, **kw)\n",
    "        te = time()\n",
    "        print('func:%r args:[%r, %r] took: %2.4f sec' % \\\n",
    "          (f.__name__, args, kw, te-ts))\n",
    "        return result\n",
    "    return wrap"
   ]
  },
  {
   "cell_type": "code",
   "execution_count": 3,
   "id": "81449457-77df-4c2e-bcd0-e4ada4b09b8a",
   "metadata": {
    "tags": []
   },
   "outputs": [],
   "source": [
    "IMG_SIZE = 32;\n",
    "batch_size = 32;\n",
    "NUM_CLASSES = 10;\n",
    "size = (IMG_SIZE,IMG_SIZE);\n",
    "\n",
    "(ds_train, ds_test), ds_info = tfds.load(\n",
    "    \"imagenette\", split=['train','validation'], with_info=True, as_supervised=True\n",
    ")"
   ]
  },
  {
   "cell_type": "code",
   "execution_count": 4,
   "id": "31ca1342-7bf5-4020-ba6e-77e5ed99cb77",
   "metadata": {
    "tags": []
   },
   "outputs": [],
   "source": [
    "def resize(image, label):\n",
    "    resized = tf.image.resize(image, size)\n",
    "    resized = tf.image.rgb_to_grayscale(resized)\n",
    "    return resized, label\n",
    "def onehot(image, label):\n",
    "    label = tf.one_hot(label, NUM_CLASSES)\n",
    "    return image, label"
   ]
  },
  {
   "cell_type": "code",
   "execution_count": 5,
   "id": "373d977b-3ef5-45cc-bd44-4256453dd721",
   "metadata": {
    "tags": []
   },
   "outputs": [],
   "source": [
    "ds_train = ds_train.map(resize, num_parallel_calls=8)\n",
    "ds_train = ds_train.map(onehot, num_parallel_calls=8)\n",
    "ds_train = ds_train.batch(batch_size=batch_size, drop_remainder=True)\n",
    "\n",
    "ds_test = ds_test.map(resize, num_parallel_calls=8)\n",
    "ds_test = ds_test.map(onehot, num_parallel_calls=8)\n",
    "ds_test = ds_test.batch(batch_size=batch_size, drop_remainder=True)\n",
    "\n",
    "ds_train = ds_train.prefetch(tf.data.AUTOTUNE)"
   ]
  },
  {
   "cell_type": "code",
   "execution_count": 6,
   "id": "f5823565-76dd-4703-a067-525267835ca2",
   "metadata": {
    "tags": []
   },
   "outputs": [
    {
     "name": "stderr",
     "output_type": "stream",
     "text": [
      "2023-04-18 19:08:58.421694: I tensorflow/compiler/xla/stream_executor/cuda/cuda_dnn.cc:424] Loaded cuDNN version 8801\n",
      "2023-04-18 19:08:59.143293: I tensorflow/tsl/platform/default/subprocess.cc:304] Start cannot spawn child process: No such file or directory\n",
      "2023-04-18 19:08:59.859239: I tensorflow/compiler/xla/service/service.cc:169] XLA service 0x560fe0609f90 initialized for platform CUDA (this does not guarantee that XLA will be used). Devices:\n",
      "2023-04-18 19:08:59.859277: I tensorflow/compiler/xla/service/service.cc:177]   StreamExecutor device (0): NVIDIA GeForce RTX 2060, Compute Capability 7.5\n",
      "2023-04-18 19:08:59.865652: I tensorflow/compiler/mlir/tensorflow/utils/dump_mlir_util.cc:269] disabling MLIR crash reproducer, set env var `MLIR_CRASH_REPRODUCER_DIRECTORY` to enable.\n",
      "2023-04-18 19:08:59.947531: I tensorflow/tsl/platform/default/subprocess.cc:304] Start cannot spawn child process: No such file or directory\n",
      "2023-04-18 19:09:00.032015: I ./tensorflow/compiler/jit/device_compiler.h:180] Compiled cluster using XLA!  This line is logged at most once for the lifetime of the process.\n"
     ]
    },
    {
     "name": "stdout",
     "output_type": "stream",
     "text": [
      "1/1 [==============================] - ETA: 0s - loss: 2261.6477 - distortion_loss: 0.9993 - rate_loss: 263.0054 - distortion_pass_through_loss: 0.9993 - rate_pass_through_loss: 263.0054"
     ]
    },
    {
     "name": "stderr",
     "output_type": "stream",
     "text": [
      "WARNING:absl:Computing quantization offsets using offset heuristic within a tf.function. Ideally, the offset heuristic should only be used to determine offsets once after training. Depending on the prior, estimating the offset might be computationally expensive.\n"
     ]
    },
    {
     "name": "stdout",
     "output_type": "stream",
     "text": [
      "1/1 [==============================] - 8s 8s/step - loss: 2261.6477 - distortion_loss: 0.9993 - rate_loss: 263.0054 - distortion_pass_through_loss: 0.9993 - rate_pass_through_loss: 263.0054 - val_loss: 2258.0669 - val_distortion_loss: 0.9992 - val_rate_loss: 259.6149 - val_distortion_pass_through_loss: 0.9992 - val_rate_pass_through_loss: 259.6149\n"
     ]
    }
   ],
   "source": [
    "compressor,decompressor = load_pretrained_RDAE()"
   ]
  },
  {
   "cell_type": "code",
   "execution_count": 7,
   "id": "2bd026fd-08be-4928-92b8-b74c6d5ba191",
   "metadata": {
    "tags": []
   },
   "outputs": [
    {
     "name": "stderr",
     "output_type": "stream",
     "text": [
      "2023-04-18 19:09:03.037814: I tensorflow/core/common_runtime/executor.cc:1197] [/device:CPU:0] (DEBUG INFO) Executor start aborting (this does not indicate an error and you can ignore this message): INVALID_ARGUMENT: You must feed a value for placeholder tensor 'Placeholder/_4' with dtype int64 and shape [16]\n",
      "\t [[{{node Placeholder/_4}}]]\n",
      "2023-04-18 19:09:03.038280: I tensorflow/core/common_runtime/executor.cc:1197] [/device:CPU:0] (DEBUG INFO) Executor start aborting (this does not indicate an error and you can ignore this message): INVALID_ARGUMENT: You must feed a value for placeholder tensor 'Placeholder/_3' with dtype int64 and shape [16]\n",
      "\t [[{{node Placeholder/_3}}]]\n"
     ]
    },
    {
     "name": "stdout",
     "output_type": "stream",
     "text": [
      "func:'encode' args:[(), {}] took: 5.0109 sec\n"
     ]
    },
    {
     "name": "stderr",
     "output_type": "stream",
     "text": [
      "2023-04-18 19:09:08.048386: I tensorflow/core/common_runtime/executor.cc:1197] [/device:CPU:0] (DEBUG INFO) Executor start aborting (this does not indicate an error and you can ignore this message): INVALID_ARGUMENT: You must feed a value for placeholder tensor 'Placeholder/_3' with dtype int64 and shape [4]\n",
      "\t [[{{node Placeholder/_3}}]]\n",
      "2023-04-18 19:09:08.049043: I tensorflow/core/common_runtime/executor.cc:1197] [/device:CPU:0] (DEBUG INFO) Executor start aborting (this does not indicate an error and you can ignore this message): INVALID_ARGUMENT: You must feed a value for placeholder tensor 'Placeholder/_3' with dtype int64 and shape [4]\n",
      "\t [[{{node Placeholder/_3}}]]\n"
     ]
    }
   ],
   "source": [
    "@timing\n",
    "def encode():\n",
    "    C = []\n",
    "    for X,y in ds_train.take(-1):\n",
    "        strings, entropies = compressor(X)\n",
    "        C.append(strings)\n",
    "    C = tf.reshape(tf.stack(C),(9440))\n",
    "    np.save('imagenette_32y',np.array(C))\n",
    "encode()\n",
    "\n",
    "C = []\n",
    "for X,y in ds_test.take(-1):\n",
    "    strings, entropies = compressor(X)\n",
    "    C.append(strings)\n",
    "C = tf.reshape(tf.stack(C),(3904))\n",
    "np.save('imagenette_32y_val',np.array(C))"
   ]
  },
  {
   "cell_type": "code",
   "execution_count": 8,
   "id": "f96575b8-dcfd-41ea-bf8a-374d55ac8a15",
   "metadata": {
    "tags": []
   },
   "outputs": [
    {
     "name": "stdout",
     "output_type": "stream",
     "text": [
      "func:'partial_decode' args:[(), {}] took: 0.0232 sec\n"
     ]
    }
   ],
   "source": [
    "@timing\n",
    "def partial_decode():\n",
    "    C = np.load('imagenette_32y.npy',allow_pickle=True)\n",
    "    D = decompressor.entropy_model.decompress(C,broadcast_shape=(1,1))\n",
    "    return D\n",
    "D = partial_decode()"
   ]
  },
  {
   "cell_type": "code",
   "execution_count": 9,
   "id": "b2230273-2f5d-42ae-bbdd-58b4b502b70a",
   "metadata": {
    "tags": []
   },
   "outputs": [
    {
     "name": "stdout",
     "output_type": "stream",
     "text": [
      "func:'full_decode' args:[(), {}] took: 1.8046 sec\n"
     ]
    }
   ],
   "source": [
    "@timing\n",
    "def full_decode():\n",
    "    C = np.load('imagenette_32y.npy',allow_pickle=True)\n",
    "    D = decompressor(C)\n",
    "    return D\n",
    "D = full_decode()"
   ]
  },
  {
   "cell_type": "code",
   "execution_count": 10,
   "id": "a81e6577-28e1-4d5f-9540-d6d3193cea10",
   "metadata": {
    "tags": []
   },
   "outputs": [
    {
     "name": "stdout",
     "output_type": "stream",
     "text": [
      "func:'partial_decode' args:[(), {}] took: 0.0130 sec\n"
     ]
    },
    {
     "name": "stderr",
     "output_type": "stream",
     "text": [
      "2023-04-18 19:09:12.143472: I tensorflow/core/common_runtime/executor.cc:1197] [/device:CPU:0] (DEBUG INFO) Executor start aborting (this does not indicate an error and you can ignore this message): INVALID_ARGUMENT: You must feed a value for placeholder tensor 'Placeholder/_1' with dtype string and shape [16]\n",
      "\t [[{{node Placeholder/_1}}]]\n",
      "2023-04-18 19:09:12.143837: I tensorflow/core/common_runtime/executor.cc:1197] [/device:CPU:0] (DEBUG INFO) Executor start aborting (this does not indicate an error and you can ignore this message): INVALID_ARGUMENT: You must feed a value for placeholder tensor 'Placeholder/_2' with dtype string and shape [16]\n",
      "\t [[{{node Placeholder/_2}}]]\n",
      "2023-04-18 19:09:17.991803: I tensorflow/core/common_runtime/executor.cc:1197] [/device:CPU:0] (DEBUG INFO) Executor start aborting (this does not indicate an error and you can ignore this message): INVALID_ARGUMENT: You must feed a value for placeholder tensor 'Placeholder/_3' with dtype int64 and shape [4]\n",
      "\t [[{{node Placeholder/_3}}]]\n",
      "2023-04-18 19:09:17.992259: I tensorflow/core/common_runtime/executor.cc:1197] [/device:CPU:0] (DEBUG INFO) Executor start aborting (this does not indicate an error and you can ignore this message): INVALID_ARGUMENT: You must feed a value for placeholder tensor 'Placeholder/_4' with dtype int64 and shape [4]\n",
      "\t [[{{node Placeholder/_4}}]]\n"
     ]
    }
   ],
   "source": [
    "(ds_train, ds_test), ds_info = tfds.load(\n",
    "    \"imagenette\", split=['train','validation'], with_info=True, as_supervised=True\n",
    ")\n",
    "\n",
    "X_train = tf.squeeze(partial_decode())\n",
    "\n",
    "C = np.load('imagenette_32y_val.npy',allow_pickle=True)\n",
    "X_val = tf.squeeze(decompressor.entropy_model.decompress(C,broadcast_shape=(1,1)))\n",
    "\n",
    "y_train = []\n",
    "for _,y in ds_train.take(-1):\n",
    "    y_train.append(y)\n",
    "y_train = tf.stack(y_train[0:9440])\n",
    "\n",
    "y_val = [];\n",
    "for _,y in ds_test.take(-1):\n",
    "    y_val.append(y)    \n",
    "y_val = tf.stack(y_val[0:3904])"
   ]
  },
  {
   "cell_type": "code",
   "execution_count": 11,
   "id": "6435334b-8bef-4e75-ac99-61db6adba7f6",
   "metadata": {
    "tags": []
   },
   "outputs": [
    {
     "data": {
      "text/plain": [
       "TensorShape([9440, 128])"
      ]
     },
     "metadata": {},
     "output_type": "display_data"
    },
    {
     "data": {
      "text/plain": [
       "TensorShape([3904, 128])"
      ]
     },
     "metadata": {},
     "output_type": "display_data"
    },
    {
     "data": {
      "text/plain": [
       "TensorShape([9440])"
      ]
     },
     "metadata": {},
     "output_type": "display_data"
    },
    {
     "data": {
      "text/plain": [
       "TensorShape([3904])"
      ]
     },
     "metadata": {},
     "output_type": "display_data"
    }
   ],
   "source": [
    "display(X_train.shape)\n",
    "display(X_val.shape)\n",
    "display(y_train.shape)\n",
    "display(y_val.shape)"
   ]
  },
  {
   "cell_type": "code",
   "execution_count": 12,
   "id": "84044e94-f1a6-4d5b-87df-48aad7d242e4",
   "metadata": {
    "tags": []
   },
   "outputs": [
    {
     "name": "stdout",
     "output_type": "stream",
     "text": [
      "Use /tmp/tmpcxqfynf1 as temporary training directory\n",
      "Reading training dataset...\n"
     ]
    },
    {
     "name": "stderr",
     "output_type": "stream",
     "text": [
      "[WARNING 23-04-18 19:09:20.5150 CDT gradient_boosted_trees.cc:1797] \"goss_alpha\" set but \"sampling_method\" not equal to \"GOSS\".\n",
      "[WARNING 23-04-18 19:09:20.5150 CDT gradient_boosted_trees.cc:1808] \"goss_beta\" set but \"sampling_method\" not equal to \"GOSS\".\n",
      "[WARNING 23-04-18 19:09:20.5150 CDT gradient_boosted_trees.cc:1822] \"selective_gradient_boosting_ratio\" set but \"sampling_method\" not equal to \"SELGB\".\n"
     ]
    },
    {
     "name": "stdout",
     "output_type": "stream",
     "text": [
      "Training dataset read in 0:00:05.686583. Found 9440 examples.\n",
      "Training model...\n",
      "Model trained in 0:00:24.415089\n",
      "Compiling model...\n"
     ]
    },
    {
     "name": "stderr",
     "output_type": "stream",
     "text": [
      "[INFO 23-04-18 19:09:50.4993 CDT kernel.cc:1242] Loading model from path /tmp/tmpcxqfynf1/model/ with prefix ddbd9dd3b503455c\n",
      "[INFO 23-04-18 19:09:50.6060 CDT decision_forest.cc:660] Model loaded with 890 root(s), 41612 node(s), and 128 input feature(s).\n",
      "[INFO 23-04-18 19:09:50.6060 CDT abstract_model.cc:1311] Engine \"GradientBoostedTreesGeneric\" built\n",
      "[INFO 23-04-18 19:09:50.6061 CDT kernel.cc:1074] Use fast generic engine\n"
     ]
    },
    {
     "name": "stdout",
     "output_type": "stream",
     "text": [
      "WARNING:tensorflow:AutoGraph could not transform <function simple_ml_inference_op_with_handle at 0x7f5278dfdbd0> and will run it as-is.\n",
      "Please report this to the TensorFlow team. When filing the bug, set the verbosity to 10 (on Linux, `export AUTOGRAPH_VERBOSITY=10`) and attach the full output.\n",
      "Cause: could not get source code\n",
      "To silence this warning, decorate the function with @tf.autograph.experimental.do_not_convert\n"
     ]
    },
    {
     "name": "stderr",
     "output_type": "stream",
     "text": [
      "WARNING:tensorflow:AutoGraph could not transform <function simple_ml_inference_op_with_handle at 0x7f5278dfdbd0> and will run it as-is.\n",
      "Please report this to the TensorFlow team. When filing the bug, set the verbosity to 10 (on Linux, `export AUTOGRAPH_VERBOSITY=10`) and attach the full output.\n",
      "Cause: could not get source code\n",
      "To silence this warning, decorate the function with @tf.autograph.experimental.do_not_convert\n"
     ]
    },
    {
     "name": "stdout",
     "output_type": "stream",
     "text": [
      "WARNING: AutoGraph could not transform <function simple_ml_inference_op_with_handle at 0x7f5278dfdbd0> and will run it as-is.\n",
      "Please report this to the TensorFlow team. When filing the bug, set the verbosity to 10 (on Linux, `export AUTOGRAPH_VERBOSITY=10`) and attach the full output.\n",
      "Cause: could not get source code\n",
      "To silence this warning, decorate the function with @tf.autograph.experimental.do_not_convert\n",
      "Model compiled.\n",
      "122/122 [==============================] - 1s 7ms/step\n"
     ]
    },
    {
     "data": {
      "text/plain": [
       "0.3711577868852459"
      ]
     },
     "execution_count": 12,
     "metadata": {},
     "output_type": "execute_result"
    }
   ],
   "source": [
    "model = tfdf.keras.GradientBoostedTreesModel()\n",
    "model.fit(x=X_train, y=y_train)\n",
    "np.sum(np.argmax(model.predict(X_val),axis=1) == y_val)/len(y_val)"
   ]
  },
  {
   "cell_type": "code",
   "execution_count": 20,
   "id": "33c40e15-aa00-4ce5-b3b8-d215da390e95",
   "metadata": {
    "tags": []
   },
   "outputs": [
    {
     "name": "stdout",
     "output_type": "stream",
     "text": [
      "Reading training dataset...\n",
      "Training dataset read in 0:00:01.428915. Found 9440 examples.\n",
      "Training model...\n"
     ]
    },
    {
     "name": "stderr",
     "output_type": "stream",
     "text": [
      "[INFO 23-04-18 19:17:42.0926 CDT decision_forest.cc:660] Model loaded with 1160 root(s), 53106 node(s), and 128 input feature(s).\n"
     ]
    },
    {
     "name": "stdout",
     "output_type": "stream",
     "text": [
      "Model trained in 0:00:01.203441\n",
      "Compiling model...\n"
     ]
    },
    {
     "name": "stderr",
     "output_type": "stream",
     "text": [
      "[INFO 23-04-18 19:17:42.9819 CDT kernel.cc:1242] Loading model from path /tmp/tmpcxqfynf1/model/ with prefix ddbd9dd3b503455c\n",
      "[INFO 23-04-18 19:17:43.1128 CDT decision_forest.cc:660] Model loaded with 1130 root(s), 51810 node(s), and 128 input feature(s).\n",
      "[INFO 23-04-18 19:17:43.1129 CDT kernel.cc:1074] Use fast generic engine\n"
     ]
    },
    {
     "name": "stdout",
     "output_type": "stream",
     "text": [
      "Model compiled.\n",
      "func:'train' args:[(), {}] took: 3.0659 sec\n"
     ]
    }
   ],
   "source": [
    "@timing\n",
    "def train():\n",
    "    model.fit(x=X_train, y=y_train)\n",
    "train()"
   ]
  }
 ],
 "metadata": {
  "kernelspec": {
   "display_name": "Python 3 (ipykernel)",
   "language": "python",
   "name": "python3"
  },
  "language_info": {
   "codemirror_mode": {
    "name": "ipython",
    "version": 3
   },
   "file_extension": ".py",
   "mimetype": "text/x-python",
   "name": "python",
   "nbconvert_exporter": "python",
   "pygments_lexer": "ipython3",
   "version": "3.10.6"
  }
 },
 "nbformat": 4,
 "nbformat_minor": 5
}
