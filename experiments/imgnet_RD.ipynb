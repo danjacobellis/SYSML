{
 "cells": [
  {
   "cell_type": "code",
   "execution_count": 227,
   "id": "1fb27c97-222f-41f4-b247-bc263e9b1df3",
   "metadata": {
    "tags": []
   },
   "outputs": [],
   "source": [
    "import numpy as np\n",
    "import tensorflow as tf\n",
    "import PIL.Image"
   ]
  },
  {
   "cell_type": "code",
   "execution_count": 228,
   "id": "6145acd2-0216-4fc0-a2a9-a256b19747a7",
   "metadata": {
    "tags": []
   },
   "outputs": [],
   "source": [
    "def RGB_to_Y(x):\n",
    "    x = tf.convert_to_tensor(x)\n",
    "    x = tf.reshape(x,(3,32,32))\n",
    "    x = tf.transpose(x,(1,2,0))\n",
    "    x = tf.image.rgb_to_grayscale(x)\n",
    "    return x\n",
    "def display_Y(Y):\n",
    "    return PIL.Image.fromarray(np.array(Y),'L')"
   ]
  },
  {
   "cell_type": "code",
   "execution_count": 229,
   "id": "22e6edfd-615e-4832-a287-fa7f682c46a5",
   "metadata": {
    "tags": []
   },
   "outputs": [],
   "source": [
    "X = tf.map_fn(RGB_to_Y,val[\"data\"][0:500])"
   ]
  },
  {
   "cell_type": "code",
   "execution_count": 234,
   "id": "9fbb29de-9b76-4dcb-bd7f-68e5fdc67032",
   "metadata": {},
   "outputs": [
    {
     "data": {
      "image/png": "[encoded data removed]",
      "text/plain": [
       "<PIL.Image.Image image mode=L size=32x32>"
      ]
     },
     "metadata": {},
     "output_type": "display_data"
    },
    {
     "data": {
      "image/png": "[encoded data removed]",
      "text/plain": [
       "<PIL.Image.Image image mode=L size=32x32>"
      ]
     },
     "metadata": {},
     "output_type": "display_data"
    },
    {
     "data": {
      "image/png": "[encoded data removed]",
      "text/plain": [
       "<PIL.Image.Image image mode=L size=32x32>"
      ]
     },
     "metadata": {},
     "output_type": "display_data"
    },
    {
     "data": {
      "image/png": "[encoded data removed]",
      "text/plain": [
       "<PIL.Image.Image image mode=L size=32x32>"
      ]
     },
     "metadata": {},
     "output_type": "display_data"
    },
    {
     "data": {
      "image/png": "[encoded data removed]",
      "text/plain": [
       "<PIL.Image.Image image mode=L size=32x32>"
      ]
     },
     "metadata": {},
     "output_type": "display_data"
    }
   ],
   "source": [
    "for i_img in range(5):\n",
    "    img = display_Y(X[i_img,:,:,0])\n",
    "    display(img)"
   ]
  }
 ],
 "metadata": {
  "kernelspec": {
   "display_name": "Python 3 (ipykernel)",
   "language": "python",
   "name": "python3"
  },
  "language_info": {
   "codemirror_mode": {
    "name": "ipython",
    "version": 3
   },
   "file_extension": ".py",
   "mimetype": "text/x-python",
   "name": "python",
   "nbconvert_exporter": "python",
   "pygments_lexer": "ipython3",
   "version": "3.10.6"
  }
 },
 "nbformat": 4,
 "nbformat_minor": 5
}
