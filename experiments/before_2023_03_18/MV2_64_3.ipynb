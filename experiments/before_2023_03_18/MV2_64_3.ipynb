{
 "cells": [
  {
   "cell_type": "code",
   "execution_count": 2,
   "id": "7efa49e4-5ee0-42de-9c98-306db06663f7",
   "metadata": {},
   "outputs": [],
   "source": [
    "import numpy as np\n",
    "import tensorflow as tf\n",
    "import tensorflow_datasets as tfds\n",
    "from tensorflow.keras.models import Sequential\n",
    "from tensorflow.keras import layers\n",
    "from tensorflow.keras.applications import MobileNetV2\n",
    "import matplotlib.pyplot as plt"
   ]
  },
  {
   "cell_type": "code",
   "execution_count": 3,
   "id": "efc5641b-f0a1-403b-8379-3258c54785d8",
   "metadata": {},
   "outputs": [],
   "source": [
    "IMG_SIZE = 64;\n",
    "N_CHANNELS = 3;\n",
    "ALPHA = 0.25;\n",
    "batch_size = 32;"
   ]
  },
  {
   "cell_type": "code",
   "execution_count": 4,
   "id": "85a2c059-f16e-4931-9061-6d4acb729369",
   "metadata": {},
   "outputs": [],
   "source": [
    "def resize(image, label):\n",
    "    resized = tf.image.resize(image, size)\n",
    "    return resized, label\n",
    "def onehot(image, label):\n",
    "    label = tf.one_hot(label, NUM_CLASSES)\n",
    "    return image, label"
   ]
  },
  {
   "cell_type": "code",
   "execution_count": 5,
   "id": "80fe8003-5e41-4371-8600-a10610ad470b",
   "metadata": {},
   "outputs": [],
   "source": [
    "NUM_CLASSES = 10;\n",
    "size = (IMG_SIZE,IMG_SIZE);\n",
    "\n",
    "\n",
    "(ds_train, ds_test), ds_info = tfds.load(\n",
    "    \"imagenette\", split=['train','validation'], with_info=True, as_supervised=True\n",
    ")\n",
    "\n",
    "ds_train = ds_train.map(resize, num_parallel_calls=8)\n",
    "ds_train = ds_train.map(onehot, num_parallel_calls=8)\n",
    "ds_train = ds_train.batch(batch_size=batch_size, drop_remainder=True)\n",
    "\n",
    "ds_test = ds_test.map(resize, num_parallel_calls=8)\n",
    "ds_test = ds_test.map(onehot, num_parallel_calls=8)\n",
    "ds_test = ds_test.batch(batch_size=batch_size, drop_remainder=True)\n",
    "\n",
    "ds_train = ds_train.prefetch(tf.data.AUTOTUNE)"
   ]
  },
  {
   "cell_type": "code",
   "execution_count": 6,
   "id": "023b8126-f89a-4d7f-a6e4-c0d8a049b8ef",
   "metadata": {},
   "outputs": [],
   "source": [
    "MBNet = MobileNetV2(\n",
    "    include_top=True,\n",
    "    weights=None,\n",
    "    alpha=ALPHA,\n",
    "    classes=10,\n",
    "    input_shape=(IMG_SIZE,IMG_SIZE,N_CHANNELS),\n",
    ")\n",
    "model = MBNet\n",
    "model.compile(\n",
    "    optimizer=\"adam\", loss=\"categorical_crossentropy\", metrics=[\"accuracy\"]\n",
    ")"
   ]
  },
  {
   "cell_type": "code",
   "execution_count": 7,
   "id": "bff32845-dbe1-4747-ba0d-71df3e51c16a",
   "metadata": {},
   "outputs": [
    {
     "name": "stdout",
     "output_type": "stream",
     "text": [
      "(None, 64, 64, 3)\n",
      "(None, 10)\n",
      "157\n"
     ]
    }
   ],
   "source": [
    "print(model.layers[0].get_input_shape_at(0))\n",
    "print(model.layers[-1].get_output_shape_at(0))\n",
    "print(np.size(model.layers))"
   ]
  },
  {
   "cell_type": "code",
   "execution_count": 8,
   "id": "24a45794-3f50-454c-9bb9-2978841e7d00",
   "metadata": {},
   "outputs": [
    {
     "name": "stdout",
     "output_type": "stream",
     "text": [
      "Epoch 1/20\n",
      "295/295 - 39s - loss: 2.3072 - accuracy: 0.1680 - val_loss: 2.3029 - val_accuracy: 0.0989 - 39s/epoch - 131ms/step\n",
      "Epoch 2/20\n",
      "295/295 - 14s - loss: 2.0808 - accuracy: 0.2502 - val_loss: 2.3082 - val_accuracy: 0.0989 - 14s/epoch - 48ms/step\n",
      "Epoch 3/20\n",
      "295/295 - 14s - loss: 1.9576 - accuracy: 0.3039 - val_loss: 2.3197 - val_accuracy: 0.1071 - 14s/epoch - 47ms/step\n",
      "Epoch 4/20\n",
      "295/295 - 14s - loss: 1.8594 - accuracy: 0.3450 - val_loss: 2.3401 - val_accuracy: 0.1071 - 14s/epoch - 48ms/step\n",
      "Epoch 5/20\n",
      "295/295 - 14s - loss: 1.7846 - accuracy: 0.3822 - val_loss: 2.3819 - val_accuracy: 0.1071 - 14s/epoch - 46ms/step\n",
      "Epoch 6/20\n",
      "295/295 - 14s - loss: 1.7142 - accuracy: 0.4138 - val_loss: 2.4083 - val_accuracy: 0.1071 - 14s/epoch - 47ms/step\n",
      "Epoch 7/20\n",
      "295/295 - 14s - loss: 1.6482 - accuracy: 0.4333 - val_loss: 2.4370 - val_accuracy: 0.1071 - 14s/epoch - 47ms/step\n",
      "Epoch 8/20\n",
      "295/295 - 14s - loss: 1.5814 - accuracy: 0.4571 - val_loss: 2.4439 - val_accuracy: 0.1071 - 14s/epoch - 47ms/step\n",
      "Epoch 9/20\n",
      "295/295 - 14s - loss: 1.5228 - accuracy: 0.4843 - val_loss: 2.4475 - val_accuracy: 0.1071 - 14s/epoch - 48ms/step\n",
      "Epoch 10/20\n",
      "295/295 - 14s - loss: 1.4580 - accuracy: 0.5044 - val_loss: 2.4671 - val_accuracy: 0.1071 - 14s/epoch - 46ms/step\n",
      "Epoch 11/20\n",
      "295/295 - 14s - loss: 1.3978 - accuracy: 0.5274 - val_loss: 2.4749 - val_accuracy: 0.1071 - 14s/epoch - 47ms/step\n",
      "Epoch 12/20\n",
      "295/295 - 14s - loss: 1.3389 - accuracy: 0.5495 - val_loss: 2.4040 - val_accuracy: 0.1086 - 14s/epoch - 47ms/step\n",
      "Epoch 13/20\n",
      "295/295 - 14s - loss: 1.2820 - accuracy: 0.5647 - val_loss: 2.2802 - val_accuracy: 0.1560 - 14s/epoch - 48ms/step\n",
      "Epoch 14/20\n",
      "295/295 - 14s - loss: 1.2224 - accuracy: 0.5853 - val_loss: 2.1084 - val_accuracy: 0.2444 - 14s/epoch - 47ms/step\n",
      "Epoch 15/20\n",
      "295/295 - 14s - loss: 1.1804 - accuracy: 0.6003 - val_loss: 2.0997 - val_accuracy: 0.2941 - 14s/epoch - 48ms/step\n",
      "Epoch 16/20\n",
      "295/295 - 13s - loss: 1.1333 - accuracy: 0.6178 - val_loss: 2.0082 - val_accuracy: 0.3578 - 13s/epoch - 46ms/step\n",
      "Epoch 17/20\n",
      "295/295 - 14s - loss: 1.0893 - accuracy: 0.6272 - val_loss: 2.5402 - val_accuracy: 0.3665 - 14s/epoch - 47ms/step\n",
      "Epoch 18/20\n",
      "295/295 - 14s - loss: 1.0508 - accuracy: 0.6386 - val_loss: 2.3581 - val_accuracy: 0.3909 - 14s/epoch - 47ms/step\n",
      "Epoch 19/20\n",
      "295/295 - 14s - loss: 0.9994 - accuracy: 0.6586 - val_loss: 3.1499 - val_accuracy: 0.3768 - 14s/epoch - 49ms/step\n",
      "Epoch 20/20\n",
      "295/295 - 14s - loss: 0.9404 - accuracy: 0.6819 - val_loss: 4.0353 - val_accuracy: 0.3537 - 14s/epoch - 47ms/step\n"
     ]
    }
   ],
   "source": [
    "epochs = 20\n",
    "hist = model.fit(ds_train, epochs=epochs, validation_data=ds_test, verbose=2)"
   ]
  },
  {
   "cell_type": "code",
   "execution_count": 9,
   "id": "888642ba-c65f-4cc9-aef5-0b3e9522c81a",
   "metadata": {},
   "outputs": [
    {
     "data": {
      "text/plain": [
       "Text(0, 0.5, 'Accuracy')"
      ]
     },
     "execution_count": 9,
     "metadata": {},
     "output_type": "execute_result"
    },
    {
     "data": {
      "image/png": "[encoded data removed]",
      "text/plain": [
       "<Figure size 640x480 with 1 Axes>"
      ]
     },
     "metadata": {},
     "output_type": "display_data"
    }
   ],
   "source": [
    "plt.plot(hist.history['accuracy'])\n",
    "plt.plot(hist.history['val_accuracy'])\n",
    "plt.xlabel('Epochs')\n",
    "plt.ylabel('Accuracy')"
   ]
  },
  {
   "cell_type": "code",
   "execution_count": 10,
   "id": "6662e29c-f4cd-4517-803e-915da22e6000",
   "metadata": {},
   "outputs": [
    {
     "name": "stdout",
     "output_type": "stream",
     "text": [
      "Model: \"mobilenetv2_0.25_64\"\n",
      "__________________________________________________________________________________________________\n",
      " Layer (type)                   Output Shape         Param #     Connected to                     \n",
      "==================================================================================================\n",
      " input_1 (InputLayer)           [(None, 64, 64, 3)]  0           []                               \n",
      "                                                                                                  \n",
      "==================================================================================================\n",
      "Total params: 261,578\n",
      "Trainable params: 250,922\n",
      "Non-trainable params: 10,656\n",
      "__________________________________________________________________________________________________\n"
     ]
    }
   ],
   "source": [
    "model.summary(layer_range=['input_1','input_1'])"
   ]
  }
 ],
 "metadata": {
  "kernelspec": {
   "display_name": "Python 3 (ipykernel)",
   "language": "python",
   "name": "python3"
  },
  "language_info": {
   "codemirror_mode": {
    "name": "ipython",
    "version": 3
   },
   "file_extension": ".py",
   "mimetype": "text/x-python",
   "name": "python",
   "nbconvert_exporter": "python",
   "pygments_lexer": "ipython3",
   "version": "3.10.6"
  }
 },
 "nbformat": 4,
 "nbformat_minor": 5
}
