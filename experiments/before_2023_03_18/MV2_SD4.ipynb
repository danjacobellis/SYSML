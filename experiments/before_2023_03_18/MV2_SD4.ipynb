{
 "cells": [
  {
   "cell_type": "code",
   "execution_count": 1,
   "id": "7efa49e4-5ee0-42de-9c98-306db06663f7",
   "metadata": {},
   "outputs": [
    {
     "name": "stderr",
     "output_type": "stream",
     "text": [
      "2023-03-05 21:26:52.685900: I tensorflow/core/platform/cpu_feature_guard.cc:193] This TensorFlow binary is optimized with oneAPI Deep Neural Network Library (oneDNN) to use the following CPU instructions in performance-critical operations:  AVX2 FMA\n",
      "To enable them in other operations, rebuild TensorFlow with the appropriate compiler flags.\n",
      "2023-03-05 21:26:53.389830: W tensorflow/compiler/xla/stream_executor/platform/default/dso_loader.cc:64] Could not load dynamic library 'libnvinfer.so.7'; dlerror: libnvinfer.so.7: cannot open shared object file: No such file or directory\n",
      "2023-03-05 21:26:53.390007: W tensorflow/compiler/xla/stream_executor/platform/default/dso_loader.cc:64] Could not load dynamic library 'libnvinfer_plugin.so.7'; dlerror: libnvinfer_plugin.so.7: cannot open shared object file: No such file or directory\n",
      "2023-03-05 21:26:53.390016: W tensorflow/compiler/tf2tensorrt/utils/py_utils.cc:38] TF-TRT Warning: Cannot dlopen some TensorRT libraries. If you would like to use Nvidia GPU with TensorRT, please make sure the missing libraries mentioned above are installed properly.\n"
     ]
    }
   ],
   "source": [
    "import numpy as np\n",
    "import tensorflow as tf\n",
    "import tensorflow_datasets as tfds\n",
    "from tensorflow.keras.models import Sequential\n",
    "from tensorflow.keras import layers\n",
    "from tensorflow.keras.applications import MobileNetV2\n",
    "import matplotlib.pyplot as plt"
   ]
  },
  {
   "cell_type": "code",
   "execution_count": 19,
   "id": "efc5641b-f0a1-403b-8379-3258c54785d8",
   "metadata": {},
   "outputs": [],
   "source": [
    "IMG_SIZE = 64;\n",
    "N_CHANNELS = 4;\n",
    "ALPHA = 0.25;\n",
    "batch_size = 32;"
   ]
  },
  {
   "cell_type": "code",
   "execution_count": 20,
   "id": "85a2c059-f16e-4931-9061-6d4acb729369",
   "metadata": {},
   "outputs": [],
   "source": [
    "def fix_dims(image, label):\n",
    "    return tf.transpose(image), label\n",
    "def onehot(image, label):\n",
    "    label = tf.one_hot(label, NUM_CLASSES)\n",
    "    return image, label"
   ]
  },
  {
   "cell_type": "code",
   "execution_count": 21,
   "id": "80fe8003-5e41-4371-8600-a10610ad470b",
   "metadata": {},
   "outputs": [],
   "source": [
    "NUM_CLASSES = 10;\n",
    "size = (IMG_SIZE,IMG_SIZE);\n",
    "\n",
    "ds_train = tf.data.Dataset.load(\"latent_train\")\n",
    "ds_test = tf.data.Dataset.load(\"latent_test\")\n",
    "\n",
    "ds_train = ds_train.map(fix_dims, num_parallel_calls=8)\n",
    "ds_train = ds_train.map(onehot, num_parallel_calls=8)\n",
    "ds_train = ds_train.batch(batch_size=batch_size, drop_remainder=True)\n",
    "\n",
    "ds_test = ds_test.map(fix_dims, num_parallel_calls=8)\n",
    "ds_test = ds_test.map(onehot, num_parallel_calls=8)\n",
    "ds_test = ds_test.batch(batch_size=batch_size, drop_remainder=True)\n",
    "\n",
    "ds_train = ds_train.prefetch(tf.data.AUTOTUNE)"
   ]
  },
  {
   "cell_type": "code",
   "execution_count": 22,
   "id": "023b8126-f89a-4d7f-a6e4-c0d8a049b8ef",
   "metadata": {},
   "outputs": [
    {
     "name": "stderr",
     "output_type": "stream",
     "text": [
      "/home/server/.local/lib/python3.10/site-packages/keras/applications/mobilenet_v2.py:299: UserWarning: This model usually expects 1 or 3 input channels. However, it was passed an input_shape with 4 input channels.\n",
      "  input_shape = imagenet_utils.obtain_input_shape(\n"
     ]
    }
   ],
   "source": [
    "MBNet = MobileNetV2(\n",
    "    include_top=True,\n",
    "    weights=None,\n",
    "    alpha=ALPHA,\n",
    "    classes=10,\n",
    "    input_shape=(IMG_SIZE,IMG_SIZE,N_CHANNELS),\n",
    ")\n",
    "model = MBNet\n",
    "model.compile(\n",
    "    optimizer=\"adam\", loss=\"categorical_crossentropy\", metrics=[\"accuracy\"]\n",
    ")"
   ]
  },
  {
   "cell_type": "code",
   "execution_count": 23,
   "id": "bff32845-dbe1-4747-ba0d-71df3e51c16a",
   "metadata": {},
   "outputs": [
    {
     "name": "stdout",
     "output_type": "stream",
     "text": [
      "(None, 64, 64, 4)\n",
      "(None, 10)\n",
      "157\n"
     ]
    }
   ],
   "source": [
    "print(model.layers[0].get_input_shape_at(0))\n",
    "print(model.layers[-1].get_output_shape_at(0))\n",
    "print(np.size(model.layers))"
   ]
  },
  {
   "cell_type": "code",
   "execution_count": 24,
   "id": "24a45794-3f50-454c-9bb9-2978841e7d00",
   "metadata": {},
   "outputs": [
    {
     "name": "stdout",
     "output_type": "stream",
     "text": [
      "Epoch 1/20\n",
      "295/295 - 41s - loss: 2.3509 - accuracy: 0.1401 - val_loss: 2.3029 - val_accuracy: 0.1037 - 41s/epoch - 139ms/step\n",
      "Epoch 2/20\n",
      "295/295 - 15s - loss: 2.1038 - accuracy: 0.2477 - val_loss: 2.3073 - val_accuracy: 0.0989 - 15s/epoch - 50ms/step\n",
      "Epoch 3/20\n",
      "295/295 - 15s - loss: 1.9434 - accuracy: 0.3212 - val_loss: 2.3188 - val_accuracy: 0.0989 - 15s/epoch - 50ms/step\n",
      "Epoch 4/20\n",
      "295/295 - 15s - loss: 1.8312 - accuracy: 0.3662 - val_loss: 2.3352 - val_accuracy: 0.0989 - 15s/epoch - 49ms/step\n",
      "Epoch 5/20\n",
      "295/295 - 14s - loss: 1.7441 - accuracy: 0.4000 - val_loss: 2.3539 - val_accuracy: 0.0989 - 14s/epoch - 49ms/step\n",
      "Epoch 6/20\n",
      "295/295 - 14s - loss: 1.6689 - accuracy: 0.4247 - val_loss: 2.3795 - val_accuracy: 0.0989 - 14s/epoch - 49ms/step\n",
      "Epoch 7/20\n",
      "295/295 - 14s - loss: 1.6080 - accuracy: 0.4474 - val_loss: 2.3919 - val_accuracy: 0.0989 - 14s/epoch - 49ms/step\n",
      "Epoch 8/20\n",
      "295/295 - 15s - loss: 1.5457 - accuracy: 0.4746 - val_loss: 2.3802 - val_accuracy: 0.0989 - 15s/epoch - 50ms/step\n",
      "Epoch 9/20\n",
      "295/295 - 14s - loss: 1.4830 - accuracy: 0.4923 - val_loss: 2.3958 - val_accuracy: 0.1071 - 14s/epoch - 49ms/step\n",
      "Epoch 10/20\n",
      "295/295 - 15s - loss: 1.4108 - accuracy: 0.5202 - val_loss: 2.3967 - val_accuracy: 0.1068 - 15s/epoch - 49ms/step\n",
      "Epoch 11/20\n",
      "295/295 - 15s - loss: 1.3719 - accuracy: 0.5381 - val_loss: 2.4003 - val_accuracy: 0.1007 - 15s/epoch - 50ms/step\n",
      "Epoch 12/20\n",
      "295/295 - 15s - loss: 1.3176 - accuracy: 0.5515 - val_loss: 2.3677 - val_accuracy: 0.1096 - 15s/epoch - 50ms/step\n",
      "Epoch 13/20\n",
      "295/295 - 15s - loss: 1.2704 - accuracy: 0.5707 - val_loss: 2.2686 - val_accuracy: 0.1783 - 15s/epoch - 50ms/step\n",
      "Epoch 14/20\n",
      "295/295 - 15s - loss: 1.2074 - accuracy: 0.5909 - val_loss: 2.1711 - val_accuracy: 0.2113 - 15s/epoch - 50ms/step\n",
      "Epoch 15/20\n",
      "295/295 - 15s - loss: 1.1729 - accuracy: 0.6028 - val_loss: 1.9548 - val_accuracy: 0.3504 - 15s/epoch - 50ms/step\n",
      "Epoch 16/20\n",
      "295/295 - 15s - loss: 1.1111 - accuracy: 0.6218 - val_loss: 1.6921 - val_accuracy: 0.4357 - 15s/epoch - 49ms/step\n",
      "Epoch 17/20\n",
      "295/295 - 14s - loss: 1.0647 - accuracy: 0.6363 - val_loss: 2.0138 - val_accuracy: 0.4091 - 14s/epoch - 49ms/step\n",
      "Epoch 18/20\n",
      "295/295 - 14s - loss: 1.0088 - accuracy: 0.6553 - val_loss: 2.4362 - val_accuracy: 0.4060 - 14s/epoch - 49ms/step\n",
      "Epoch 19/20\n",
      "295/295 - 14s - loss: 0.9814 - accuracy: 0.6658 - val_loss: 3.0989 - val_accuracy: 0.3940 - 14s/epoch - 48ms/step\n",
      "Epoch 20/20\n",
      "295/295 - 14s - loss: 0.9308 - accuracy: 0.6819 - val_loss: 4.2232 - val_accuracy: 0.3291 - 14s/epoch - 49ms/step\n"
     ]
    }
   ],
   "source": [
    "epochs = 20\n",
    "hist = model.fit(ds_train, epochs=epochs, validation_data=ds_test, verbose=2)"
   ]
  },
  {
   "cell_type": "code",
   "execution_count": 27,
   "id": "888642ba-c65f-4cc9-aef5-0b3e9522c81a",
   "metadata": {},
   "outputs": [
    {
     "data": {
      "text/plain": [
       "Text(0, 0.5, 'Accuracy')"
      ]
     },
     "execution_count": 27,
     "metadata": {},
     "output_type": "execute_result"
    },
    {
     "data": {
      "image/png": "[encoded data removed]",
      "text/plain": [
       "<Figure size 640x480 with 1 Axes>"
      ]
     },
     "metadata": {},
     "output_type": "display_data"
    }
   ],
   "source": [
    "plt.plot(hist.history['accuracy'])\n",
    "plt.plot(hist.history['val_accuracy'])\n",
    "plt.xlabel('Epochs')\n",
    "plt.ylabel('Accuracy')"
   ]
  },
  {
   "cell_type": "code",
   "execution_count": 29,
   "id": "6662e29c-f4cd-4517-803e-915da22e6000",
   "metadata": {},
   "outputs": [
    {
     "name": "stdout",
     "output_type": "stream",
     "text": [
      "Model: \"mobilenetv2_0.25_64\"\n",
      "__________________________________________________________________________________________________\n",
      " Layer (type)                   Output Shape         Param #     Connected to                     \n",
      "==================================================================================================\n",
      " input_2 (InputLayer)           [(None, 64, 64, 4)]  0           []                               \n",
      "                                                                                                  \n",
      "==================================================================================================\n",
      "Total params: 261,650\n",
      "Trainable params: 250,994\n",
      "Non-trainable params: 10,656\n",
      "__________________________________________________________________________________________________\n"
     ]
    }
   ],
   "source": [
    "model.summary(layer_range=['input_2','input_2'])"
   ]
  }
 ],
 "metadata": {
  "kernelspec": {
   "display_name": "Python 3 (ipykernel)",
   "language": "python",
   "name": "python3"
  },
  "language_info": {
   "codemirror_mode": {
    "name": "ipython",
    "version": 3
   },
   "file_extension": ".py",
   "mimetype": "text/x-python",
   "name": "python",
   "nbconvert_exporter": "python",
   "pygments_lexer": "ipython3",
   "version": "3.10.6"
  }
 },
 "nbformat": 4,
 "nbformat_minor": 5
}
