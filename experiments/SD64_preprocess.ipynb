{
 "cells": [
  {
   "cell_type": "code",
   "execution_count": 2,
   "id": "5bfa36bf-deeb-44ac-bfcb-8783bf1953c1",
   "metadata": {},
   "outputs": [],
   "source": [
    "from diffusers import AutoencoderKL\n",
    "import torch\n",
    "from PIL import Image\n",
    "import numpy as np\n",
    "from torch.cuda.amp import autocast\n",
    "import matplotlib.pyplot as plt\n",
    "import tensorflow as tf\n",
    "import tensorflow_datasets as tfds"
   ]
  },
  {
   "cell_type": "code",
   "execution_count": 3,
   "id": "f4e989de-ed1b-47bb-a9fb-17e39ef1c1ab",
   "metadata": {},
   "outputs": [],
   "source": [
    "torch_device = \"cuda\"\n",
    "vae = AutoencoderKL.from_pretrained(\"CompVis/stable-diffusion-v1-4\", subfolder=\"vae\").to(torch_device)"
   ]
  },
  {
   "cell_type": "code",
   "execution_count": 4,
   "id": "fc1bd2e0-5aad-4380-963c-ff13fcbed1e4",
   "metadata": {},
   "outputs": [],
   "source": [
    "@torch.no_grad()\n",
    "def to_latents(img:Image):\n",
    "  np_img = (np.array(img).astype(np.float32) / 255.0) * 2.0 - 1.0\n",
    "  np_img = np_img[None].transpose(0, 3, 1, 2)\n",
    "  torch_img = torch.from_numpy(np_img)\n",
    "  with autocast():\n",
    "    generator = torch.Generator(\"cuda\").manual_seed(0)\n",
    "    latents = vae.encode(torch_img.to(vae.dtype).to(torch_device)).latent_dist.sample(generator=generator)\n",
    "  return latents\n",
    "@torch.no_grad()\n",
    "def to_img(latents):\n",
    "  with autocast():\n",
    "    torch_img = vae.decode(latents.to(vae.dtype).to(torch_device)).sample\n",
    "  torch_img = (torch_img / 2 + 0.5).clamp(0, 1)\n",
    "  np_img = torch_img.cpu().permute(0, 2, 3, 1).detach().numpy()[0]\n",
    "  np_img = (np_img * 255.0).astype(np.uint8)\n",
    "  img = Image.fromarray(np_img)\n",
    "  return img"
   ]
  },
  {
   "cell_type": "code",
   "execution_count": 62,
   "id": "b193e967-aa0f-4a35-a899-68171dfee2ef",
   "metadata": {},
   "outputs": [
    {
     "name": "stderr",
     "output_type": "stream",
     "text": [
      "2023-03-05 21:21:22.001884: W tensorflow/tsl/framework/cpu_allocator_impl.cc:82] Allocation of 620560384 exceeds 10% of free system memory.\n",
      "2023-03-05 21:21:22.379476: W tensorflow/tsl/framework/cpu_allocator_impl.cc:82] Allocation of 620560384 exceeds 10% of free system memory.\n"
     ]
    }
   ],
   "source": [
    "with tf.device(\"CPU:0\"):\n",
    "    (ds_train, ds_test), ds_info = tfds.load(\n",
    "        \"imagenette\", split=['train','validation'], with_info=True, as_supervised=True\n",
    "    )\n",
    "    N1 = len(list(ds_train))\n",
    "    N2 = len(list(ds_test))\n",
    "    z1 = torch.zeros((N1,4,64,64))\n",
    "    y1 = np.zeros((N1),dtype=int)\n",
    "    z2 = torch.zeros((N2,4,64,64))\n",
    "    y2 = np.zeros((N2),dtype=int)\n",
    "    for i_img, (x,y) in enumerate(ds_train.take(-1)):\n",
    "        resized = tf.image.resize(x, (512,512))\n",
    "        z1[i_img,:,:,:] = to_latents(resized)\n",
    "        y1[i_img] = y\n",
    "\n",
    "    for i_img, (x,y) in enumerate(ds_test.take(-1)):\n",
    "        resized = tf.image.resize(x, (512,512))\n",
    "        z2[i_img,:,:,:] = to_latents(resized)\n",
    "        y2[i_img] = y\n",
    "        pass\n",
    "ds2_train = tf.data.Dataset.from_tensor_slices((z1, y1))\n",
    "ds2_test = tf.data.Dataset.from_tensor_slices((z2, y2))\n",
    "ds2_train.save('latent_train')\n",
    "ds2_test.save('latent_test')"
   ]
  }
 ],
 "metadata": {
  "kernelspec": {
   "display_name": "Python 3 (ipykernel)",
   "language": "python",
   "name": "python3"
  },
  "language_info": {
   "codemirror_mode": {
    "name": "ipython",
    "version": 3
   },
   "file_extension": ".py",
   "mimetype": "text/x-python",
   "name": "python",
   "nbconvert_exporter": "python",
   "pygments_lexer": "ipython3",
   "version": "3.10.6"
  }
 },
 "nbformat": 4,
 "nbformat_minor": 5
}
