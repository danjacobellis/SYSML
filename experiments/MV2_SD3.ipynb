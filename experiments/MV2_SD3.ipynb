{
 "cells": [
  {
   "cell_type": "code",
   "execution_count": 1,
   "id": "7efa49e4-5ee0-42de-9c98-306db06663f7",
   "metadata": {},
   "outputs": [
    {
     "name": "stderr",
     "output_type": "stream",
     "text": [
      "2023-03-05 23:05:37.415897: I tensorflow/core/platform/cpu_feature_guard.cc:193] This TensorFlow binary is optimized with oneAPI Deep Neural Network Library (oneDNN) to use the following CPU instructions in performance-critical operations:  AVX2 FMA\n",
      "To enable them in other operations, rebuild TensorFlow with the appropriate compiler flags.\n",
      "2023-03-05 23:05:38.084127: W tensorflow/compiler/xla/stream_executor/platform/default/dso_loader.cc:64] Could not load dynamic library 'libnvinfer.so.7'; dlerror: libnvinfer.so.7: cannot open shared object file: No such file or directory\n",
      "2023-03-05 23:05:38.084184: W tensorflow/compiler/xla/stream_executor/platform/default/dso_loader.cc:64] Could not load dynamic library 'libnvinfer_plugin.so.7'; dlerror: libnvinfer_plugin.so.7: cannot open shared object file: No such file or directory\n",
      "2023-03-05 23:05:38.084192: W tensorflow/compiler/tf2tensorrt/utils/py_utils.cc:38] TF-TRT Warning: Cannot dlopen some TensorRT libraries. If you would like to use Nvidia GPU with TensorRT, please make sure the missing libraries mentioned above are installed properly.\n"
     ]
    }
   ],
   "source": [
    "import numpy as np\n",
    "import tensorflow as tf\n",
    "import tensorflow_datasets as tfds\n",
    "from tensorflow.keras.models import Sequential\n",
    "from tensorflow.keras import layers\n",
    "from tensorflow.keras.applications import MobileNetV2\n",
    "import matplotlib.pyplot as plt"
   ]
  },
  {
   "cell_type": "code",
   "execution_count": 3,
   "id": "efc5641b-f0a1-403b-8379-3258c54785d8",
   "metadata": {},
   "outputs": [],
   "source": [
    "IMG_SIZE = 64;\n",
    "N_CHANNELS = 3;\n",
    "ALPHA = 0.25;\n",
    "batch_size = 32;\n",
    "\n",
    "DL = np.array([\n",
    "    #   R       G       B\n",
    "    [ 0.298,  0.207,  0.208],  # L1\n",
    "    [ 0.187,  0.286,  0.173],  # L2\n",
    "    [-0.158,  0.189,  0.264],  # L3\n",
    "    [-0.184, -0.271, -0.473],  # L4\n",
    "])"
   ]
  },
  {
   "cell_type": "code",
   "execution_count": 12,
   "id": "85a2c059-f16e-4931-9061-6d4acb729369",
   "metadata": {},
   "outputs": [],
   "source": [
    "def fix_dims(image, label):\n",
    "    return tf.transpose(image) @ DL, label\n",
    "def onehot(image, label):\n",
    "    label = tf.one_hot(label, NUM_CLASSES)\n",
    "    return image, label"
   ]
  },
  {
   "cell_type": "code",
   "execution_count": 13,
   "id": "80fe8003-5e41-4371-8600-a10610ad470b",
   "metadata": {},
   "outputs": [],
   "source": [
    "NUM_CLASSES = 10;\n",
    "size = (IMG_SIZE,IMG_SIZE);\n",
    "\n",
    "ds_train = tf.data.Dataset.load(\"latent_train\")\n",
    "ds_test = tf.data.Dataset.load(\"latent_test\")\n",
    "\n",
    "ds_train = ds_train.map(fix_dims, num_parallel_calls=8)\n",
    "ds_train = ds_train.map(onehot, num_parallel_calls=8)\n",
    "ds_train = ds_train.batch(batch_size=batch_size, drop_remainder=True)\n",
    "\n",
    "ds_test = ds_test.map(fix_dims, num_parallel_calls=8)\n",
    "ds_test = ds_test.map(onehot, num_parallel_calls=8)\n",
    "ds_test = ds_test.batch(batch_size=batch_size, drop_remainder=True)\n",
    "\n",
    "ds_train = ds_train.prefetch(tf.data.AUTOTUNE)"
   ]
  },
  {
   "cell_type": "code",
   "execution_count": 14,
   "id": "023b8126-f89a-4d7f-a6e4-c0d8a049b8ef",
   "metadata": {},
   "outputs": [],
   "source": [
    "MBNet = MobileNetV2(\n",
    "    include_top=True,\n",
    "    weights=None,\n",
    "    alpha=ALPHA,\n",
    "    classes=10,\n",
    "    input_shape=(IMG_SIZE,IMG_SIZE,N_CHANNELS),\n",
    ")\n",
    "model = MBNet\n",
    "model.compile(\n",
    "    optimizer=\"adam\", loss=\"categorical_crossentropy\", metrics=[\"accuracy\"]\n",
    ")"
   ]
  },
  {
   "cell_type": "code",
   "execution_count": 15,
   "id": "bff32845-dbe1-4747-ba0d-71df3e51c16a",
   "metadata": {},
   "outputs": [
    {
     "name": "stdout",
     "output_type": "stream",
     "text": [
      "(None, 64, 64, 3)\n",
      "(None, 10)\n",
      "157\n"
     ]
    }
   ],
   "source": [
    "print(model.layers[0].get_input_shape_at(0))\n",
    "print(model.layers[-1].get_output_shape_at(0))\n",
    "print(np.size(model.layers))"
   ]
  },
  {
   "cell_type": "code",
   "execution_count": 16,
   "id": "24a45794-3f50-454c-9bb9-2978841e7d00",
   "metadata": {},
   "outputs": [
    {
     "name": "stdout",
     "output_type": "stream",
     "text": [
      "Epoch 1/20\n",
      "295/295 - 39s - loss: 2.3560 - accuracy: 0.1492 - val_loss: 2.3028 - val_accuracy: 0.0989 - 39s/epoch - 133ms/step\n",
      "Epoch 2/20\n",
      "295/295 - 15s - loss: 2.1151 - accuracy: 0.2405 - val_loss: 2.3069 - val_accuracy: 0.0989 - 15s/epoch - 50ms/step\n",
      "Epoch 3/20\n",
      "295/295 - 15s - loss: 1.9577 - accuracy: 0.3148 - val_loss: 2.3294 - val_accuracy: 0.0989 - 15s/epoch - 50ms/step\n",
      "Epoch 4/20\n",
      "295/295 - 15s - loss: 1.8542 - accuracy: 0.3541 - val_loss: 2.3572 - val_accuracy: 0.0989 - 15s/epoch - 50ms/step\n",
      "Epoch 5/20\n",
      "295/295 - 15s - loss: 1.7848 - accuracy: 0.3804 - val_loss: 2.3858 - val_accuracy: 0.0989 - 15s/epoch - 51ms/step\n",
      "Epoch 6/20\n",
      "295/295 - 15s - loss: 1.6984 - accuracy: 0.4175 - val_loss: 2.4255 - val_accuracy: 0.0989 - 15s/epoch - 51ms/step\n",
      "Epoch 7/20\n",
      "295/295 - 15s - loss: 1.6042 - accuracy: 0.4500 - val_loss: 2.4339 - val_accuracy: 0.0989 - 15s/epoch - 51ms/step\n",
      "Epoch 8/20\n",
      "295/295 - 15s - loss: 1.5208 - accuracy: 0.4857 - val_loss: 2.4602 - val_accuracy: 0.0989 - 15s/epoch - 51ms/step\n",
      "Epoch 9/20\n",
      "295/295 - 15s - loss: 1.4303 - accuracy: 0.5105 - val_loss: 2.4530 - val_accuracy: 0.0989 - 15s/epoch - 51ms/step\n",
      "Epoch 10/20\n",
      "295/295 - 15s - loss: 1.3527 - accuracy: 0.5426 - val_loss: 2.4266 - val_accuracy: 0.0989 - 15s/epoch - 51ms/step\n",
      "Epoch 11/20\n",
      "295/295 - 15s - loss: 1.3082 - accuracy: 0.5554 - val_loss: 2.3988 - val_accuracy: 0.0989 - 15s/epoch - 50ms/step\n",
      "Epoch 12/20\n",
      "295/295 - 15s - loss: 1.2439 - accuracy: 0.5818 - val_loss: 2.3634 - val_accuracy: 0.0991 - 15s/epoch - 50ms/step\n",
      "Epoch 13/20\n",
      "295/295 - 15s - loss: 1.1936 - accuracy: 0.5978 - val_loss: 2.3202 - val_accuracy: 0.1434 - 15s/epoch - 50ms/step\n",
      "Epoch 14/20\n",
      "295/295 - 15s - loss: 1.1357 - accuracy: 0.6105 - val_loss: 2.2103 - val_accuracy: 0.2062 - 15s/epoch - 51ms/step\n",
      "Epoch 15/20\n",
      "295/295 - 15s - loss: 1.0736 - accuracy: 0.6361 - val_loss: 1.9635 - val_accuracy: 0.3148 - 15s/epoch - 49ms/step\n",
      "Epoch 16/20\n",
      "295/295 - 15s - loss: 1.0070 - accuracy: 0.6570 - val_loss: 1.7668 - val_accuracy: 0.4073 - 15s/epoch - 51ms/step\n",
      "Epoch 17/20\n",
      "295/295 - 15s - loss: 0.9756 - accuracy: 0.6680 - val_loss: 1.8582 - val_accuracy: 0.4347 - 15s/epoch - 50ms/step\n",
      "Epoch 18/20\n",
      "295/295 - 15s - loss: 0.9091 - accuracy: 0.6873 - val_loss: 2.4164 - val_accuracy: 0.4273 - 15s/epoch - 50ms/step\n",
      "Epoch 19/20\n",
      "295/295 - 15s - loss: 0.8733 - accuracy: 0.6975 - val_loss: 3.1642 - val_accuracy: 0.3724 - 15s/epoch - 52ms/step\n",
      "Epoch 20/20\n",
      "295/295 - 15s - loss: 0.8185 - accuracy: 0.7169 - val_loss: 3.8189 - val_accuracy: 0.3394 - 15s/epoch - 50ms/step\n"
     ]
    }
   ],
   "source": [
    "epochs = 20\n",
    "hist = model.fit(ds_train, epochs=epochs, validation_data=ds_test, verbose=2)"
   ]
  },
  {
   "cell_type": "code",
   "execution_count": 17,
   "id": "888642ba-c65f-4cc9-aef5-0b3e9522c81a",
   "metadata": {},
   "outputs": [
    {
     "data": {
      "text/plain": [
       "Text(0, 0.5, 'Accuracy')"
      ]
     },
     "execution_count": 17,
     "metadata": {},
     "output_type": "execute_result"
    },
    {
     "data": {
      "image/png": "[encoded data removed]",
      "text/plain": [
       "<Figure size 640x480 with 1 Axes>"
      ]
     },
     "metadata": {},
     "output_type": "display_data"
    }
   ],
   "source": [
    "plt.plot(hist.history['accuracy'])\n",
    "plt.plot(hist.history['val_accuracy'])\n",
    "plt.xlabel('Epochs')\n",
    "plt.ylabel('Accuracy')"
   ]
  },
  {
   "cell_type": "code",
   "execution_count": 19,
   "id": "6662e29c-f4cd-4517-803e-915da22e6000",
   "metadata": {},
   "outputs": [
    {
     "name": "stdout",
     "output_type": "stream",
     "text": [
      "Model: \"mobilenetv2_0.25_64\"\n",
      "__________________________________________________________________________________________________\n",
      " Layer (type)                   Output Shape         Param #     Connected to                     \n",
      "==================================================================================================\n",
      " input_1 (InputLayer)           [(None, 64, 64, 3)]  0           []                               \n",
      "                                                                                                  \n",
      "==================================================================================================\n",
      "Total params: 261,578\n",
      "Trainable params: 250,922\n",
      "Non-trainable params: 10,656\n",
      "__________________________________________________________________________________________________\n"
     ]
    }
   ],
   "source": [
    "model.summary(layer_range=['input_1','input_1'])"
   ]
  }
 ],
 "metadata": {
  "kernelspec": {
   "display_name": "Python 3 (ipykernel)",
   "language": "python",
   "name": "python3"
  },
  "language_info": {
   "codemirror_mode": {
    "name": "ipython",
    "version": 3
   },
   "file_extension": ".py",
   "mimetype": "text/x-python",
   "name": "python",
   "nbconvert_exporter": "python",
   "pygments_lexer": "ipython3",
   "version": "3.10.6"
  }
 },
 "nbformat": 4,
 "nbformat_minor": 5
}
