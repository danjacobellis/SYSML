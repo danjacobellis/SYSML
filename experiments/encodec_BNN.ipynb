{
 "cells": [
  {
   "cell_type": "code",
   "execution_count": 127,
   "id": "318f0f9f-3f2a-49ef-be37-2cf2157169af",
   "metadata": {},
   "outputs": [],
   "source": [
    "import matplotlib.pyplot as plt\n",
    "import time"
   ]
  },
  {
   "cell_type": "code",
   "execution_count": 128,
   "id": "e552620d-51b5-4e85-98df-ec90cf696c1a",
   "metadata": {},
   "outputs": [],
   "source": [
    "from common_functions import *"
   ]
  },
  {
   "cell_type": "code",
   "execution_count": 146,
   "id": "1a4c1f39-7b66-4894-8021-7b1223b598d6",
   "metadata": {},
   "outputs": [],
   "source": [
    "C = np.load('encodec_transformed_data/C.npy')\n",
    "Cv = np.load('encodec_transformed_data/Cv.npy')\n",
    "y = np.load('encodec_transformed_data/yC.npy')\n",
    "yv = np.load('encodec_transformed_data/yCv.npy')\n",
    "# C = np.reshape(C,(-1,75,20))\n",
    "# Cv = np.reshape(Cv,(-1,75,20))\n",
    "# C = np.transpose(C,axes=(0,3,2,1))\n",
    "# Cv = np.transpose(Cv,axes=(0,3,2,1))"
   ]
  },
  {
   "cell_type": "code",
   "execution_count": 147,
   "id": "c2c6c922-0911-4c55-bf63-4bfd7323b727",
   "metadata": {},
   "outputs": [
    {
     "data": {
      "text/plain": [
       "(6400, 2, 75, 10)"
      ]
     },
     "execution_count": 147,
     "metadata": {},
     "output_type": "execute_result"
    }
   ],
   "source": [
    "np.shape(C)"
   ]
  },
  {
   "cell_type": "code",
   "execution_count": 149,
   "id": "f16d19c8-bdc8-41bf-a00f-daaff7c2b414",
   "metadata": {},
   "outputs": [
    {
     "name": "stdout",
     "output_type": "stream",
     "text": [
      "+sequential_30 stats-------------------------------------------------------------------+\n",
      "| Layer                   Input prec.          Outputs  # 32-bit   Memory  32-bit MACs |\n",
      "|                               (bit)                        x 1     (kB)              |\n",
      "+--------------------------------------------------------------------------------------+\n",
      "| quant_conv2d_60                   1  (-1, 2, 73, 32)       992     3.88       140160 |\n",
      "| max_pooling2d_44                  -  (-1, 2, 36, 32)         0        0            0 |\n",
      "| batch_normalization_19            -  (-1, 2, 36, 32)        64     0.25            0 |\n",
      "| quant_conv2d_61                   -  (-1, 2, 34, 64)      6208    24.25       417792 |\n",
      "| max_pooling2d_45                  -  (-1, 2, 17, 64)         0        0            0 |\n",
      "| flatten_30                        -       (-1, 2176)         0        0            0 |\n",
      "| quant_dense_75                    -        (-1, 128)    278656  1088.50       278528 |\n",
      "| quant_dense_76                    -          (-1, 8)      1032     4.03         1024 |\n",
      "+--------------------------------------------------------------------------------------+\n",
      "| Total                                                   286952  1120.91       837504 |\n",
      "+--------------------------------------------------------------------------------------+\n",
      "+sequential_30 summary----------------------+\n",
      "| Total params                   287 k      |\n",
      "| Trainable params               287 k      |\n",
      "| Non-trainable params           64         |\n",
      "| Model size                     1.09 MiB   |\n",
      "| Model size (8-bit FP weights)  280.23 KiB |\n",
      "| Float-32 Equivalent            1.09 MiB   |\n",
      "| Compression Ratio of Memory    1.00       |\n",
      "| Number of MACs                 838 k      |\n",
      "+-------------------------------------------+\n"
     ]
    }
   ],
   "source": [
    "model = models.Sequential([\n",
    "    layers.Input(shape=(2,75,10)),\n",
    "    lq.layers.QuantConv2D(32, (1,3), activation='relu',input_quantizer=\"ste_sign\"),\n",
    "    layers.MaxPooling2D(pool_size=(1,2)),\n",
    "    layers.BatchNormalization(),\n",
    "    lq.layers.QuantConv2D(64, (1,3), activation='relu'),\n",
    "    layers.MaxPooling2D(pool_size=(1,2)),\n",
    "    layers.Flatten(),\n",
    "    lq.layers.QuantDense(128, activation='relu'),\n",
    "    lq.layers.QuantDense(8),\n",
    "])\n",
    "lq.models.summary(model)"
   ]
  },
  {
   "cell_type": "code",
   "execution_count": 150,
   "id": "7098b610-f6d1-4f0c-85a8-d31c117507a1",
   "metadata": {},
   "outputs": [],
   "source": [
    "model.compile(\n",
    "    optimizer=tf.keras.optimizers.Adam(),\n",
    "    loss=tf.keras.losses.SparseCategoricalCrossentropy(from_logits=True),\n",
    "    metrics=['accuracy'],\n",
    ")"
   ]
  },
  {
   "cell_type": "code",
   "execution_count": 151,
   "id": "75f02840-d4fd-464a-969d-7eb8986fe1b6",
   "metadata": {},
   "outputs": [],
   "source": [
    "train_acc = [];\n",
    "test_acc = [];\n",
    "elapsed_time = [];"
   ]
  },
  {
   "cell_type": "code",
   "execution_count": 152,
   "id": "849dff1b-2a28-4f7d-9e12-8c695f5e44e8",
   "metadata": {},
   "outputs": [
    {
     "data": {
      "text/plain": [
       "[<matplotlib.lines.Line2D at 0x7fe9783f1510>]"
      ]
     },
     "execution_count": 152,
     "metadata": {},
     "output_type": "execute_result"
    },
    {
     "data": {
      "image/png": "[encoded data removed]",
      "text/plain": [
       "<Figure size 640x480 with 1 Axes>"
      ]
     },
     "metadata": {},
     "output_type": "display_data"
    }
   ],
   "source": [
    "for i_iter in range(15):\n",
    "    t = time.process_time()\n",
    "    train_history = model.fit(x=C, y=y, epochs=1, batch_size=64);\n",
    "    elapsed_time.append(time.process_time()-t)\n",
    "    _, test_acc_i = model.evaluate(x=Cv, y=yv)\n",
    "    train_acc.append(train_history.history['accuracy'][0])\n",
    "    test_acc.append(test_acc_i)\n",
    "    display.clear_output()\n",
    "plt.plot(np.vstack(train_acc))\n",
    "plt.plot(np.vstack(test_acc))"
   ]
  },
  {
   "cell_type": "code",
   "execution_count": 153,
   "id": "839a172f-c778-409e-a86c-56a915691a19",
   "metadata": {},
   "outputs": [
    {
     "name": "stdout",
     "output_type": "stream",
     "text": [
      "0.8007183970003098 seconds/iteration\n",
      "0.39250001311302185 test accuracy\n"
     ]
    }
   ],
   "source": [
    "print(np.median(elapsed_time), \"seconds/iteration\")\n",
    "print(np.median(test_acc[-5:]), \"test accuracy\")"
   ]
  }
 ],
 "metadata": {
  "kernelspec": {
   "display_name": "Python 3 (ipykernel)",
   "language": "python",
   "name": "python3"
  },
  "language_info": {
   "codemirror_mode": {
    "name": "ipython",
    "version": 3
   },
   "file_extension": ".py",
   "mimetype": "text/x-python",
   "name": "python",
   "nbconvert_exporter": "python",
   "pygments_lexer": "ipython3",
   "version": "3.10.6"
  }
 },
 "nbformat": 4,
 "nbformat_minor": 5
}
